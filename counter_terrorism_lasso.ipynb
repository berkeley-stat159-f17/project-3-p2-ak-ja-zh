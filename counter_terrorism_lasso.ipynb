{
 "cells": [
  {
   "cell_type": "markdown",
   "metadata": {},
   "source": [
    "# Cross-Validated LASSO"
   ]
  },
  {
   "cell_type": "markdown",
   "metadata": {},
   "source": [
    "The goal of this section is to LASSO regression to predict whether an attack will  succeed or fail, given the characteristics of the attack. Our data are categorical one-hot-encoded feature vectors describing the attack, while the labels correspond to the success or failure of the attack. For a discussion of what \"success\" means in this database, see our main notebook.\n",
    "\n",
    "## Setup"
   ]
  },
  {
   "cell_type": "code",
   "execution_count": 1,
   "metadata": {},
   "outputs": [],
   "source": [
    "'''Library imports. sklearn's LassoCV class used for Lasso model'''\n",
    "\n",
    "import pandas as pd\n",
    "import numpy as np\n",
    "import matplotlib.pyplot as plt\n",
    "from preprocess_functions import load_data_relevant_cols\n",
    "from preprocess_functions import get_dummies\n",
    "from sklearn.linear_model import LassoCV\n",
    "from sklearn.model_selection import train_test_split\n",
    "from sklearn.metrics import roc_auc_score\n",
    "from sklearn.metrics import roc_curve\n",
    "from sklearn.metrics import confusion_matrix"
   ]
  },
  {
   "cell_type": "code",
   "execution_count": 2,
   "metadata": {},
   "outputs": [
    {
     "name": "stderr",
     "output_type": "stream",
     "text": [
      "/Users/Paul/anaconda/lib/python3.5/site-packages/IPython/core/interactiveshell.py:2910: DtypeWarning: Columns (4,6,8,10,11,12,17,18,24,29,31,33,35,37,38,39,41,43,45,46,47,49,51,53,54,55,57,58,59,60,61,62,63,64,73,76,79,82,84,86,88,90,92,94,96,97,106,108,114,115,121,123,125,126,127,128,129,134) have mixed types. Specify dtype option on import or set low_memory=False.\n",
      "  exec(code_obj, self.user_global_ns, self.user_ns)\n",
      "/Users/Paul/anaconda/lib/python3.5/site-packages/IPython/core/interactiveshell.py:2910: DtypeWarning: Columns (6,61,62,63,79,94,96,114,115) have mixed types. Specify dtype option on import or set low_memory=False.\n",
      "  exec(code_obj, self.user_global_ns, self.user_ns)\n"
     ]
    }
   ],
   "source": [
    "# Loading data\n",
    "raw = load_data_relevant_cols()"
   ]
  },
  {
   "cell_type": "markdown",
   "metadata": {},
   "source": [
    "## Feature Selection and One-Hot Encoding\n",
    "\n",
    "Our database has more than hundred features for each recorded attack. We will concentrate on a few of these for the purposes of this model. Specifically, we will use: \n",
    "\n",
    "- attacktype1_txt\n",
    "- targtype1_txt\n",
    "- targsubtype1_txt\n",
    "- weaptype1_txt\n",
    "- weapsubtype1_txt\n",
    "\n",
    "Let's examine what the possible values for each of these features are."
   ]
  },
  {
   "cell_type": "code",
   "execution_count": 3,
   "metadata": {},
   "outputs": [
    {
     "name": "stdout",
     "output_type": "stream",
     "text": [
      "['Assassination' 'Hostage Taking (Kidnapping)' 'Bombing/Explosion'\n",
      " 'Facility/Infrastructure Attack' 'Armed Assault' 'Hijacking' 'Unknown'\n",
      " 'Unarmed Assault' 'Hostage Taking (Barricade Incident)']\n"
     ]
    }
   ],
   "source": [
    "# Variable Examples:\n",
    "print(raw.attacktype1_txt.unique())"
   ]
  },
  {
   "cell_type": "code",
   "execution_count": 4,
   "metadata": {},
   "outputs": [
    {
     "name": "stdout",
     "output_type": "stream",
     "text": [
      "['Private Citizens & Property' 'Government (Diplomatic)'\n",
      " 'Journalists & Media' 'Police' 'Utilities' 'Military'\n",
      " 'Government (General)' 'Airports & Aircraft' 'Business'\n",
      " 'Educational Institution' 'Violent Political Party'\n",
      " 'Religious Figures/Institutions' 'Unknown' 'Transportation' 'Tourists'\n",
      " 'NGO' 'Telecommunication' 'Food or Water Supply'\n",
      " 'Terrorists/Non-State Militia' 'Other' 'Maritime' 'Abortion Related']\n"
     ]
    }
   ],
   "source": [
    "print(raw.targtype1_txt.unique())"
   ]
  },
  {
   "cell_type": "code",
   "execution_count": 5,
   "metadata": {},
   "outputs": [
    {
     "name": "stdout",
     "output_type": "stream",
     "text": [
      "['Named Civilian' 'Diplomatic Personnel (outside of embassy, consulate)'\n",
      " 'Radio Journalist/Staff/Facility' 'Embassy/Consulate'\n",
      " 'Police Building (headquarters, station, school)'\n",
      " 'Police Security Forces/Officers' 'Electricity'\n",
      " 'Military Recruiting Station/Academy'\n",
      " 'Government Building/Facility/Office'\n",
      " 'Military Barracks/Base/Headquarters/Checkpost'\n",
      " 'Aircraft (not at an airport)' 'Retail/Grocery/Bakery' nan\n",
      " 'Military Personnel (soldiers, troops, officers, forces)'\n",
      " 'School/University/Educational Building' 'Multinational Corporation'\n",
      " 'Party Office/Facility' 'House/Apartment/Residence'\n",
      " 'Race/Ethnicity Identified' 'Judge/Attorney/Court'\n",
      " 'Police Patrol (including vehicles and convoys)' 'Place of Worship'\n",
      " 'Vehicles/Transportation' 'Bus (excluding tourists)'\n",
      " 'Politician or Political Party Movement/Meeting/Rally' 'Hotel/Resort'\n",
      " 'Airport' 'Bank/Commerce' 'Construction' 'Tour Bus/Van'\n",
      " 'Train/Train Tracks/Trolley' 'Religion Identified' 'Gas/Oil'\n",
      " 'Newspaper Journalist/Staff/Facility' 'Military Maritime' 'Head of State'\n",
      " 'Entertainment/Cultural/Stadium/Casino' 'Labor Union Related'\n",
      " 'Restaurant/Bar/Caf\\x8e' 'Museum/Cultural Center/Cultural House'\n",
      " 'Government Personnel (excluding police, military)'\n",
      " 'Public Area (garden, parking lot, garage, beach, public building, camp)'\n",
      " 'Industrial/Textiles/Factory' 'International NGO'\n",
      " 'Unnamed Civilian/Unspecified' 'Political Party Member/Rally'\n",
      " 'Telephone/Telegraph' 'Airline Officer/Personnel' 'Water Supply'\n",
      " 'Laborer (General)/Occupation Identified'\n",
      " 'Military Transportation/Vehicle (excluding convoys)' 'Domestic NGO'\n",
      " 'Radio' 'Farm/Ranch' 'Terrorist' 'Military Unit/Patrol/Convoy'\n",
      " 'Fire Fighter/Truck' 'Other Personnel'\n",
      " 'Procession/Gathering (funeral, wedding, birthday, religious)' 'Mining'\n",
      " 'Oil' 'Medical/Pharmaceutical' 'Village/City/Town/Suburb'\n",
      " 'Memorial/Cemetery/Monument'\n",
      " 'International Organization (peacekeeper, aid agency, compound)'\n",
      " 'Affiliated Institution' 'Tourism Travel Agency' 'Television'\n",
      " 'Other (including online news agencies)'\n",
      " 'Television Journalist/Staff/Facility'\n",
      " 'Party Official/Candidate/Other Personnel'\n",
      " 'Highway/Road/Toll/Traffic Signal' 'Oil Tanker' 'Other Facility' 'Tourist'\n",
      " 'Royalty' 'Civilian Maritime' 'Gas' 'NATO' 'Military Aircraft'\n",
      " 'Taxi/Rickshaw' 'Teacher/Professor/Instructor' 'Religious Figure'\n",
      " 'Commercial Maritime' 'Non-State Militia' 'Marketplace/Plaza/Square'\n",
      " 'Prison/Jail' 'Subway' 'Bus Station/Stop' 'Bridge/Car Tunnel'\n",
      " 'Intelligence' 'Student' 'Clinics' 'Election-related'\n",
      " 'Multiple Telecommunication Targets' 'Farmer' 'Food Supply'\n",
      " 'Private Security Company/Firm' 'Port' 'Police Checkpoint' 'Protester'\n",
      " 'Refugee Camp' 'Paramilitary' 'Military Checkpoint' 'Rally' 'Personnel'\n",
      " 'Internet Infrastructure' 'Ambulance' 'Military Weaponry'\n",
      " 'Demilitarized Zone (including Green Zone)' 'Non-combatant Personnel']\n"
     ]
    }
   ],
   "source": [
    "print(raw.targsubtype1_txt.unique())"
   ]
  },
  {
   "cell_type": "code",
   "execution_count": 6,
   "metadata": {},
   "outputs": [
    {
     "name": "stdout",
     "output_type": "stream",
     "text": [
      "['Unknown' 'Explosives/Bombs/Dynamite' 'Incendiary' 'Firearms' 'Chemical'\n",
      " 'Fake Weapons' 'Melee' 'Sabotage Equipment'\n",
      " 'Vehicle (not to include vehicle-borne explosives, i.e., car or truck bombs)'\n",
      " 'Radiological' 'Other' 'Biological']\n"
     ]
    }
   ],
   "source": [
    "print(raw.weaptype1_txt.unique())"
   ]
  },
  {
   "cell_type": "code",
   "execution_count": 7,
   "metadata": {},
   "outputs": [
    {
     "name": "stdout",
     "output_type": "stream",
     "text": [
      "[nan 'Unknown Explosive Type' 'Unknown Gun Type' 'Automatic Weapon'\n",
      " 'Molotov Cocktail/Petrol Bomb' 'Gasoline or Alcohol'\n",
      " 'Rifle/Shotgun (non-automatic)' 'Arson/Fire'\n",
      " 'Projectile (rockets, mortars, RPGs, etc.)' 'Vehicle' 'Dynamite/TNT'\n",
      " 'Other Explosive Type' 'Pressure Trigger' 'Time Fuse' 'Poisoning'\n",
      " 'Letter Bomb' 'Handgun' 'Blunt Object' 'Sticky Bomb' 'Grenade'\n",
      " 'Knife or Other Sharp Object' 'Land Mine' 'Hands, Feet, Fists'\n",
      " 'Remote Trigger' 'Rope or Other Strangling Device' 'Explosive'\n",
      " 'Unknown Weapon Type' 'Suffocation'\n",
      " 'Suicide (carried bodily by human being)' 'Other Gun Type']\n"
     ]
    }
   ],
   "source": [
    "print(raw.weapsubtype1_txt.unique())"
   ]
  },
  {
   "cell_type": "markdown",
   "metadata": {},
   "source": [
    "To use the categorical variables for analysis, we need to convert them to one-hot-encoded dummy variables, using the Pandas built in get_dummies function."
   ]
  },
  {
   "cell_type": "code",
   "execution_count": 8,
   "metadata": {},
   "outputs": [],
   "source": [
    "# Making one-hot-encoded dummy variables\n",
    "rel_columns = ['attacktype1_txt', 'targtype1_txt', 'targsubtype1_txt', 'weaptype1_txt', 'weapsubtype1_txt']\n",
    "X = get_dummies(raw, rel_columns)\n",
    "Y = raw.success"
   ]
  },
  {
   "cell_type": "markdown",
   "metadata": {},
   "source": [
    "## Model Training\n",
    "\n",
    "To predict the success or failure of a terrorist attack, we will perform LASSO regression. Formally, LASSO regression learns a set of weights corresponding to each entry of an input vector. When given an input, it uses these weights to compute a linear combination, which is the output. \n",
    "\n",
    "Suppose our training data is in the form of a matrix $X$ and vector $\\vec{y}$. The rows of $X$ correspond to individual data points, while the entries of $y$ correspond to the labels of the points in $X$. Suppose we have $n$ data points, so that $X \\in \\mathbb{R}^{n \\times d}$ and $y \\in \\mathbb{R}^{n}$. The goal of LASSO regression is the learn a weight vector $w^{*} \\in \\mathbb{R}^{d}$ such that \n",
    "\n",
    "$$w^{*} = \\arg\\min_{w \\in \\mathbb{R}^{d}} \\frac{1}{2n}\\| Xw - y \\|^{2} + \\alpha \\| w \\|_{1}$$\n",
    "\n",
    "The term $\\alpha \\| w \\|_{1}$ in the objective function is a penalty term for large $w$. Penalizing $w$ with the $\\ell_{1}$ norm, as opposed to the $\\ell_{2}$ norm used in ridge regression, encourages a sparse solution. This is appropriate given the one-hot encoding of our data, as each input vector will only have a few nonzero entries. \n",
    "\n",
    "To determine the optimal $\\alpha$, which is a hyperparamter, we will use cross validation with sklearn's pre-build LassoCV class. \n",
    "\n",
    "Finally, examining the weights $w$ will tell us which weights are most important."
   ]
  },
  {
   "cell_type": "code",
   "execution_count": 9,
   "metadata": {},
   "outputs": [],
   "source": [
    "# LassoCV object and making training and test set\n",
    "predictor = LassoCV(max_iter=30000, cv=5, alphas=np.logspace(-6, -2, 50), verbose=True)\n",
    "X_train, X_test, y_train, y_test = train_test_split(X, Y, test_size=0.1, random_state=42)"
   ]
  },
  {
   "cell_type": "code",
   "execution_count": 10,
   "metadata": {},
   "outputs": [
    {
     "name": "stderr",
     "output_type": "stream",
     "text": [
      "..........................................................................................................................................................................................................................................................[Parallel(n_jobs=1)]: Done   5 out of   5 | elapsed:    6.8s finished\n"
     ]
    },
    {
     "data": {
      "text/plain": [
       "LassoCV(alphas=array([  1.00000e-06,   1.20679e-06,   1.45635e-06,   1.75751e-06,\n",
       "         2.12095e-06,   2.55955e-06,   3.08884e-06,   3.72759e-06,\n",
       "         4.49843e-06,   5.42868e-06,   6.55129e-06,   7.90604e-06,\n",
       "         9.54095e-06,   1.15140e-05,   1.38950e-05,   1.67683e-05,\n",
       "         2.02359e-05,   2...     3.90694e-03,   4.71487e-03,   5.68987e-03,   6.86649e-03,\n",
       "         8.28643e-03,   1.00000e-02]),\n",
       "    copy_X=True, cv=5, eps=0.001, fit_intercept=True, max_iter=30000,\n",
       "    n_alphas=100, n_jobs=1, normalize=False, positive=False,\n",
       "    precompute='auto', random_state=None, selection='cyclic', tol=0.0001,\n",
       "    verbose=True)"
      ]
     },
     "execution_count": 10,
     "metadata": {},
     "output_type": "execute_result"
    }
   ],
   "source": [
    "predictor.fit(X_train, y_train)"
   ]
  },
  {
   "cell_type": "markdown",
   "metadata": {},
   "source": [
    "## Model Evaluation\n",
    "\n",
    "Now that we've fit the model, we'll examine its hyperparameters and ROC curve. We'll also find the prediction accuracy of the best model. See ```counter_terrorism_neural_nets``` for an explanation of ROC Curves. "
   ]
  },
  {
   "cell_type": "code",
   "execution_count": 11,
   "metadata": {},
   "outputs": [],
   "source": [
    "y_pred = predictor.predict(X_test)"
   ]
  },
  {
   "cell_type": "code",
   "execution_count": 12,
   "metadata": {},
   "outputs": [],
   "source": [
    "# Using sklearn's roc_curve function\n",
    "fpr, tpr, thresh = roc_curve(y_test, y_pred)\n",
    "roc_auc = roc_auc_score(y_test, y_pred)"
   ]
  },
  {
   "cell_type": "code",
   "execution_count": 13,
   "metadata": {},
   "outputs": [
    {
     "data": {
      "image/png": "[encoded data removed]",
      "text/plain": [
       "<matplotlib.figure.Figure at 0x1a118b7470>"
      ]
     },
     "metadata": {},
     "output_type": "display_data"
    }
   ],
   "source": [
    "'''We plot the ROC curve and save the image.'''\n",
    "plt.figure(figsize=(12, 8))\n",
    "plt.plot(fpr, tpr, color='darkorange', label='ROC curve (area = %0.3f)' % roc_auc)\n",
    "plt.xlim([0.0, 1.0])\n",
    "plt.ylim([0.0, 1.05])\n",
    "plt.xlabel('False Positive Rate', fontsize=16)\n",
    "plt.ylabel('True Positive Rate', fontsize=16)\n",
    "plt.title('ROC Curve for LassoCV Predictions', fontsize=18)\n",
    "plt.legend(loc=\"lower right\", fontsize=16)\n",
    "plt.savefig('figures/lassoROC.png')\n",
    "plt.show();"
   ]
  },
  {
   "cell_type": "markdown",
   "metadata": {},
   "source": [
    "Next, we will examine the performance of LASSO regression with respect to different values of $\\alpha$, the weight penalty."
   ]
  },
  {
   "cell_type": "code",
   "execution_count": 14,
   "metadata": {},
   "outputs": [
    {
     "data": {
      "image/png": "[encoded data removed]",
      "text/plain": [
       "<matplotlib.figure.Figure at 0x1a17ffba58>"
      ]
     },
     "metadata": {},
     "output_type": "display_data"
    }
   ],
   "source": [
    "# Find the best alpha \n",
    "\n",
    "%matplotlib inline\n",
    "plt.figure(figsize=(12, 8))\n",
    "mse_mean = np.mean(predictor.mse_path_, axis=1)\n",
    "mse_max = np.max(predictor.mse_path_, axis=1)\n",
    "mse_min = np.min(predictor.mse_path_, axis=1)\n",
    "\n",
    "# mse_std_dev = np.std(predictor.mse_path_, axis=1)\n",
    "alphas = predictor.alphas_\n",
    "plt.plot(alphas, mse_mean, c='blue', label='Average')\n",
    "plt.plot(alphas, mse_max, 'b--', label='Max Fold')\n",
    "plt.plot(alphas, mse_min, 'b--', label='Min Fold')\n",
    "plt.semilogx()\n",
    "plt.fill_between(alphas, mse_min, mse_max, alpha=0.2)\n",
    "plt.title(r'Validation Error of LASSO with respect to $\\alpha$')\n",
    "plt.xlabel(r'$\\alpha$ Value')\n",
    "plt.ylabel('Validation Error')\n",
    "plt.savefig('figures/lasso_cv_alphas_error.png')\n",
    "plt.legend()\n",
    "plt.show();"
   ]
  },
  {
   "cell_type": "markdown",
   "metadata": {},
   "source": [
    "Next, we examine accuracy and rates of false negatives/positives."
   ]
  },
  {
   "cell_type": "code",
   "execution_count": 15,
   "metadata": {},
   "outputs": [],
   "source": [
    "'''We chooose the rounding threshold where the true positive rate \n",
    "is greater than 0.9'''\n",
    "loc = np.min(np.where(tpr > 0.9))\n",
    "fpr[loc]\n",
    "threshold = thresh[loc]\n",
    "# Rounding the predictions based on the threshold\n",
    "rounded = []\n",
    "for i in y_pred:\n",
    "    if i > threshold:\n",
    "        rounded.append(1)\n",
    "    else:\n",
    "        rounded.append(0)\n",
    "rounded_y_pred = np.array(rounded)"
   ]
  },
  {
   "cell_type": "code",
   "execution_count": 16,
   "metadata": {},
   "outputs": [
    {
     "data": {
      "text/plain": [
       "array([[  773,   987],\n",
       "       [ 1535, 13740]])"
      ]
     },
     "execution_count": 16,
     "metadata": {},
     "output_type": "execute_result"
    }
   ],
   "source": [
    "confusion_mat = confusion_matrix(y_test, rounded_y_pred)\n",
    "true_negative_rate = confusion_mat[0][0]\n",
    "false_negative_rate = confusion_mat[1][0]\n",
    "false_positive_rate = confusion_mat[0][1]\n",
    "true_positive_rate = confusion_mat[1][1]\n",
    "confusion_mat"
   ]
  },
  {
   "cell_type": "markdown",
   "metadata": {},
   "source": [
    "It appears that LASSO is too conservative in its estimates, since the number of false negatives is substantially larger than the number of positives.\n",
    "\n",
    "True Negatives: 773\n",
    "\n",
    "False Negatives: 1535\n",
    "\n",
    "True Positives: 13740\n",
    "\n",
    "False Positives: 987"
   ]
  },
  {
   "cell_type": "markdown",
   "metadata": {},
   "source": [
    "The accuracy rate is approximately 85%."
   ]
  },
  {
   "cell_type": "code",
   "execution_count": 17,
   "metadata": {},
   "outputs": [],
   "source": [
    "num_attacks = true_negative_rate + true_positive_rate + false_positive_rate + false_negative_rate\n",
    "num_correct = true_negative_rate + true_positive_rate\n",
    "accuracy = num_correct/num_attacks"
   ]
  },
  {
   "cell_type": "code",
   "execution_count": 18,
   "metadata": {},
   "outputs": [
    {
     "data": {
      "text/plain": [
       "0.85195186380980337"
      ]
     },
     "execution_count": 18,
     "metadata": {},
     "output_type": "execute_result"
    }
   ],
   "source": [
    "accuracy"
   ]
  },
  {
   "cell_type": "markdown",
   "metadata": {},
   "source": [
    "## Feature Salience\n",
    "\n",
    "Finally, we examine which features had the highest and lowest weights, to understand what features the model considered most important."
   ]
  },
  {
   "cell_type": "code",
   "execution_count": 19,
   "metadata": {},
   "outputs": [],
   "source": [
    "coefficients = pd.DataFrame({'variable':X_train.columns, 'coef':predictor.coef_,})\n",
    "# Factors that predict for failure\n",
    "\n",
    "variables_by_coeff = coefficients.sort_values(by='coef', ascending=False)"
   ]
  },
  {
   "cell_type": "code",
   "execution_count": 20,
   "metadata": {},
   "outputs": [
    {
     "data": {
      "text/html": [
       "<div>\n",
       "<style scoped>\n",
       "    .dataframe tbody tr th:only-of-type {\n",
       "        vertical-align: middle;\n",
       "    }\n",
       "\n",
       "    .dataframe tbody tr th {\n",
       "        vertical-align: top;\n",
       "    }\n",
       "\n",
       "    .dataframe thead th {\n",
       "        text-align: right;\n",
       "    }\n",
       "</style>\n",
       "<table border=\"1\" class=\"dataframe\">\n",
       "  <thead>\n",
       "    <tr style=\"text-align: right;\">\n",
       "      <th></th>\n",
       "      <th>coef</th>\n",
       "      <th>variable</th>\n",
       "    </tr>\n",
       "  </thead>\n",
       "  <tbody>\n",
       "    <tr>\n",
       "      <th>35</th>\n",
       "      <td>0.170110</td>\n",
       "      <td>targsubtype1_txt_Ambulance</td>\n",
       "    </tr>\n",
       "    <tr>\n",
       "      <th>168</th>\n",
       "      <td>0.132734</td>\n",
       "      <td>weapsubtype1_txt_Poisoning</td>\n",
       "    </tr>\n",
       "    <tr>\n",
       "      <th>2</th>\n",
       "      <td>0.127711</td>\n",
       "      <td>attacktype1_txt_Bombing/Explosion</td>\n",
       "    </tr>\n",
       "    <tr>\n",
       "      <th>118</th>\n",
       "      <td>0.119441</td>\n",
       "      <td>targsubtype1_txt_Refugee Camp</td>\n",
       "    </tr>\n",
       "    <tr>\n",
       "      <th>44</th>\n",
       "      <td>0.118715</td>\n",
       "      <td>targsubtype1_txt_Demilitarized Zone (including...</td>\n",
       "    </tr>\n",
       "    <tr>\n",
       "      <th>127</th>\n",
       "      <td>0.090535</td>\n",
       "      <td>targsubtype1_txt_Taxi/Rickshaw</td>\n",
       "    </tr>\n",
       "    <tr>\n",
       "      <th>55</th>\n",
       "      <td>0.085519</td>\n",
       "      <td>targsubtype1_txt_Gas</td>\n",
       "    </tr>\n",
       "    <tr>\n",
       "      <th>48</th>\n",
       "      <td>0.085433</td>\n",
       "      <td>targsubtype1_txt_Electricity</td>\n",
       "    </tr>\n",
       "    <tr>\n",
       "      <th>38</th>\n",
       "      <td>0.072262</td>\n",
       "      <td>targsubtype1_txt_Bus (excluding tourists)</td>\n",
       "    </tr>\n",
       "    <tr>\n",
       "      <th>173</th>\n",
       "      <td>0.071159</td>\n",
       "      <td>weapsubtype1_txt_Rope or Other Strangling Device</td>\n",
       "    </tr>\n",
       "    <tr>\n",
       "      <th>170</th>\n",
       "      <td>0.071069</td>\n",
       "      <td>weapsubtype1_txt_Projectile (rockets, mortars,...</td>\n",
       "    </tr>\n",
       "    <tr>\n",
       "      <th>92</th>\n",
       "      <td>0.063424</td>\n",
       "      <td>targsubtype1_txt_Oil</td>\n",
       "    </tr>\n",
       "    <tr>\n",
       "      <th>157</th>\n",
       "      <td>0.060817</td>\n",
       "      <td>weapsubtype1_txt_Explosive</td>\n",
       "    </tr>\n",
       "    <tr>\n",
       "      <th>64</th>\n",
       "      <td>0.053903</td>\n",
       "      <td>targsubtype1_txt_Intelligence</td>\n",
       "    </tr>\n",
       "    <tr>\n",
       "      <th>5</th>\n",
       "      <td>0.050903</td>\n",
       "      <td>attacktype1_txt_Hostage Taking (Barricade Inci...</td>\n",
       "    </tr>\n",
       "    <tr>\n",
       "      <th>22</th>\n",
       "      <td>0.049371</td>\n",
       "      <td>targtype1_txt_Private Citizens &amp; Property</td>\n",
       "    </tr>\n",
       "    <tr>\n",
       "      <th>40</th>\n",
       "      <td>0.048808</td>\n",
       "      <td>targsubtype1_txt_Civilian Maritime</td>\n",
       "    </tr>\n",
       "    <tr>\n",
       "      <th>153</th>\n",
       "      <td>0.048495</td>\n",
       "      <td>weapsubtype1_txt_Arson/Fire</td>\n",
       "    </tr>\n",
       "    <tr>\n",
       "      <th>25</th>\n",
       "      <td>0.047382</td>\n",
       "      <td>targtype1_txt_Terrorists/Non-State Militia</td>\n",
       "    </tr>\n",
       "    <tr>\n",
       "      <th>66</th>\n",
       "      <td>0.043262</td>\n",
       "      <td>targsubtype1_txt_International Organization (p...</td>\n",
       "    </tr>\n",
       "  </tbody>\n",
       "</table>\n",
       "</div>"
      ],
      "text/plain": [
       "         coef                                           variable\n",
       "35   0.170110                         targsubtype1_txt_Ambulance\n",
       "168  0.132734                         weapsubtype1_txt_Poisoning\n",
       "2    0.127711                  attacktype1_txt_Bombing/Explosion\n",
       "118  0.119441                      targsubtype1_txt_Refugee Camp\n",
       "44   0.118715  targsubtype1_txt_Demilitarized Zone (including...\n",
       "127  0.090535                     targsubtype1_txt_Taxi/Rickshaw\n",
       "55   0.085519                               targsubtype1_txt_Gas\n",
       "48   0.085433                       targsubtype1_txt_Electricity\n",
       "38   0.072262          targsubtype1_txt_Bus (excluding tourists)\n",
       "173  0.071159   weapsubtype1_txt_Rope or Other Strangling Device\n",
       "170  0.071069  weapsubtype1_txt_Projectile (rockets, mortars,...\n",
       "92   0.063424                               targsubtype1_txt_Oil\n",
       "157  0.060817                         weapsubtype1_txt_Explosive\n",
       "64   0.053903                      targsubtype1_txt_Intelligence\n",
       "5    0.050903  attacktype1_txt_Hostage Taking (Barricade Inci...\n",
       "22   0.049371          targtype1_txt_Private Citizens & Property\n",
       "40   0.048808                 targsubtype1_txt_Civilian Maritime\n",
       "153  0.048495                        weapsubtype1_txt_Arson/Fire\n",
       "25   0.047382         targtype1_txt_Terrorists/Non-State Militia\n",
       "66   0.043262  targsubtype1_txt_International Organization (p..."
      ]
     },
     "execution_count": 20,
     "metadata": {},
     "output_type": "execute_result"
    }
   ],
   "source": [
    "variables_by_coeff.head(20)"
   ]
  },
  {
   "cell_type": "code",
   "execution_count": 21,
   "metadata": {},
   "outputs": [
    {
     "data": {
      "text/html": [
       "<div>\n",
       "<style scoped>\n",
       "    .dataframe tbody tr th:only-of-type {\n",
       "        vertical-align: middle;\n",
       "    }\n",
       "\n",
       "    .dataframe tbody tr th {\n",
       "        vertical-align: top;\n",
       "    }\n",
       "\n",
       "    .dataframe thead th {\n",
       "        text-align: right;\n",
       "    }\n",
       "</style>\n",
       "<table border=\"1\" class=\"dataframe\">\n",
       "  <thead>\n",
       "    <tr style=\"text-align: right;\">\n",
       "      <th></th>\n",
       "      <th>coef</th>\n",
       "      <th>variable</th>\n",
       "    </tr>\n",
       "  </thead>\n",
       "  <tbody>\n",
       "    <tr>\n",
       "      <th>32</th>\n",
       "      <td>-0.077443</td>\n",
       "      <td>targsubtype1_txt_Aircraft (not at an airport)</td>\n",
       "    </tr>\n",
       "    <tr>\n",
       "      <th>8</th>\n",
       "      <td>-0.081239</td>\n",
       "      <td>attacktype1_txt_Unknown</td>\n",
       "    </tr>\n",
       "    <tr>\n",
       "      <th>113</th>\n",
       "      <td>-0.086196</td>\n",
       "      <td>targsubtype1_txt_Public Area (garden, parking ...</td>\n",
       "    </tr>\n",
       "    <tr>\n",
       "      <th>20</th>\n",
       "      <td>-0.091529</td>\n",
       "      <td>targtype1_txt_Other</td>\n",
       "    </tr>\n",
       "    <tr>\n",
       "      <th>126</th>\n",
       "      <td>-0.106361</td>\n",
       "      <td>targsubtype1_txt_Subway</td>\n",
       "    </tr>\n",
       "    <tr>\n",
       "      <th>166</th>\n",
       "      <td>-0.113486</td>\n",
       "      <td>weapsubtype1_txt_Other Explosive Type</td>\n",
       "    </tr>\n",
       "    <tr>\n",
       "      <th>123</th>\n",
       "      <td>-0.121834</td>\n",
       "      <td>targsubtype1_txt_Royalty</td>\n",
       "    </tr>\n",
       "    <tr>\n",
       "      <th>143</th>\n",
       "      <td>-0.131405</td>\n",
       "      <td>weaptype1_txt_Explosives/Bombs/Dynamite</td>\n",
       "    </tr>\n",
       "    <tr>\n",
       "      <th>1</th>\n",
       "      <td>-0.153658</td>\n",
       "      <td>attacktype1_txt_Assassination</td>\n",
       "    </tr>\n",
       "    <tr>\n",
       "      <th>148</th>\n",
       "      <td>-0.168697</td>\n",
       "      <td>weaptype1_txt_Other</td>\n",
       "    </tr>\n",
       "    <tr>\n",
       "      <th>177</th>\n",
       "      <td>-0.186263</td>\n",
       "      <td>weapsubtype1_txt_Time Fuse</td>\n",
       "    </tr>\n",
       "    <tr>\n",
       "      <th>142</th>\n",
       "      <td>-0.201805</td>\n",
       "      <td>weaptype1_txt_Chemical</td>\n",
       "    </tr>\n",
       "    <tr>\n",
       "      <th>59</th>\n",
       "      <td>-0.220261</td>\n",
       "      <td>targsubtype1_txt_Head of State</td>\n",
       "    </tr>\n",
       "    <tr>\n",
       "      <th>164</th>\n",
       "      <td>-0.268786</td>\n",
       "      <td>weapsubtype1_txt_Letter Bomb</td>\n",
       "    </tr>\n",
       "    <tr>\n",
       "      <th>100</th>\n",
       "      <td>-0.275122</td>\n",
       "      <td>targsubtype1_txt_Personnel</td>\n",
       "    </tr>\n",
       "    <tr>\n",
       "      <th>144</th>\n",
       "      <td>-0.293738</td>\n",
       "      <td>weaptype1_txt_Fake Weapons</td>\n",
       "    </tr>\n",
       "    <tr>\n",
       "      <th>67</th>\n",
       "      <td>-0.311324</td>\n",
       "      <td>targsubtype1_txt_Internet Infrastructure</td>\n",
       "    </tr>\n",
       "    <tr>\n",
       "      <th>141</th>\n",
       "      <td>-0.394266</td>\n",
       "      <td>weaptype1_txt_Biological</td>\n",
       "    </tr>\n",
       "    <tr>\n",
       "      <th>28</th>\n",
       "      <td>-0.483773</td>\n",
       "      <td>targtype1_txt_Unknown</td>\n",
       "    </tr>\n",
       "    <tr>\n",
       "      <th>149</th>\n",
       "      <td>-0.705960</td>\n",
       "      <td>weaptype1_txt_Radiological</td>\n",
       "    </tr>\n",
       "  </tbody>\n",
       "</table>\n",
       "</div>"
      ],
      "text/plain": [
       "         coef                                           variable\n",
       "32  -0.077443      targsubtype1_txt_Aircraft (not at an airport)\n",
       "8   -0.081239                            attacktype1_txt_Unknown\n",
       "113 -0.086196  targsubtype1_txt_Public Area (garden, parking ...\n",
       "20  -0.091529                                targtype1_txt_Other\n",
       "126 -0.106361                            targsubtype1_txt_Subway\n",
       "166 -0.113486              weapsubtype1_txt_Other Explosive Type\n",
       "123 -0.121834                           targsubtype1_txt_Royalty\n",
       "143 -0.131405            weaptype1_txt_Explosives/Bombs/Dynamite\n",
       "1   -0.153658                      attacktype1_txt_Assassination\n",
       "148 -0.168697                                weaptype1_txt_Other\n",
       "177 -0.186263                         weapsubtype1_txt_Time Fuse\n",
       "142 -0.201805                             weaptype1_txt_Chemical\n",
       "59  -0.220261                     targsubtype1_txt_Head of State\n",
       "164 -0.268786                       weapsubtype1_txt_Letter Bomb\n",
       "100 -0.275122                         targsubtype1_txt_Personnel\n",
       "144 -0.293738                         weaptype1_txt_Fake Weapons\n",
       "67  -0.311324           targsubtype1_txt_Internet Infrastructure\n",
       "141 -0.394266                           weaptype1_txt_Biological\n",
       "28  -0.483773                              targtype1_txt_Unknown\n",
       "149 -0.705960                         weaptype1_txt_Radiological"
      ]
     },
     "execution_count": 21,
     "metadata": {},
     "output_type": "execute_result"
    }
   ],
   "source": [
    "variables_by_coeff[-20:]"
   ]
  },
  {
   "cell_type": "markdown",
   "metadata": {},
   "source": [
    "We'll create plots of these values and save them. Note that values with large positive and large negative weights are both *important* - a large positive weight corresponds to success, while a large negative weight corresponds to failure."
   ]
  },
  {
   "cell_type": "code",
   "execution_count": 23,
   "metadata": {},
   "outputs": [
    {
     "data": {
      "image/png": "[encoded data removed]",
      "text/plain": [
       "<matplotlib.figure.Figure at 0x1a1482a710>"
      ]
     },
     "metadata": {},
     "output_type": "display_data"
    }
   ],
   "source": [
    "plt.figure(figsize=(14, 8))\n",
    "coeff_values = list(variables_by_coeff[:10]['coef']) + list(variables_by_coeff[-10:]['coef'])\n",
    "trait_names = list(variables_by_coeff[:10]['variable']) + list(variables_by_coeff[-11:]['variable'])\n",
    "plt.bar(np.arange(1, 11), coeff_values[:10], color='blue')\n",
    "plt.bar(np.arange(11, 21), coeff_values[10:], color='orange')\n",
    "plt.xticks(range(len(trait_names)), trait_names)\n",
    "plt.xticks(rotation=90)\n",
    "plt.title('10 Highest and Lowest Weighted Features in LASSO', fontsize=20)\n",
    "plt.xlabel('Feature Name', fontsize=16)\n",
    "plt.ylabel('Feature Weight', fontsize=16)\n",
    "plt.tight_layout()\n",
    "plt.savefig('figures/lasso_cv_feature_weights')"
   ]
  },
  {
   "cell_type": "markdown",
   "metadata": {},
   "source": [
    "### Discussion \n",
    "\n",
    "It appears that weapon and attack types are quite important to the model. Notably, LASSO doesn't attach high positive weights to even the top features, but the \"worst\" features have relatively high negative weights. This implies that while a good weapon doesn't guarantee success, a bad weapon choice might ensure failure. In fact, biological and radiological ones are so bad that aspiring bioterrorists should consider using a fake weapon instead. \n",
    "\n",
    "While these features are predictive with respect to the success or failure of an attack, this is hardly the entire story. Risk involves not just the chance of an attack succeeding, but how bad it would be if the attack occurred. In the language of statisticians, we would say that one ought to consider the expected value of an attack, not just its probability."
   ]
  },
  {
   "cell_type": "markdown",
   "metadata": {},
   "source": [
    "## Conclusion\n",
    "\n",
    "This notebook illustrates both the benefits and limitations of LASSO regression. While the model is easily interpretable based on feature weights, it fails to achieve a high prediction accuracy. Therefore, the features it considers most salient should not be taken at face value, as a more accurate model might consider other features to be more important. \n",
    "\n",
    "To achieve higher predictive accuracy, in our other analyses we will use models built specifically for classification - neural networks and random forests. "
   ]
  }
 ],
 "metadata": {
  "kernelspec": {
   "display_name": "Python 3",
   "language": "python",
   "name": "python3"
  },
  "language_info": {
   "codemirror_mode": {
    "name": "ipython",
    "version": 3
   },
   "file_extension": ".py",
   "mimetype": "text/x-python",
   "name": "python",
   "nbconvert_exporter": "python",
   "pygments_lexer": "ipython3",
   "version": "3.6.3"
  }
 },
 "nbformat": 4,
 "nbformat_minor": 2
}
