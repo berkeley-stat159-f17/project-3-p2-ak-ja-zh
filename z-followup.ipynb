{
 "cells": [
  {
   "cell_type": "markdown",
   "metadata": {},
   "source": [
    "# Follow-Up: Same Experiments, Different Data\n",
    "\n",
    "**Note**: This notebook is a work in progress. \n",
    "\n",
    "A significant flaw in our previous experiments was that our feature selection was not realistic. To predict success of a terrorist attack, we ought to really restrict ourselves to things that we might know in advance - not factors such as number killed or wounded. \n",
    "\n",
    "The \"Casualties and Consequences\" section of our dataset [codebook](http://www.start-dev.umd.edu/gtd/downloads/Codebook.pdf) is a good standard for variables in the data that cannot be predicted in advance. \n",
    "\n",
    "In this notebook, I'll select a different subset of the features in the data to figure out if the same experiments we ran are still useful.\n",
    "\n",
    "## Data Prep"
   ]
  },
  {
   "cell_type": "code",
   "execution_count": 1,
   "metadata": {},
   "outputs": [],
   "source": [
    "import pandas as pd \n",
    "import seaborn as sns\n",
    "import matplotlib.pyplot as plt\n",
    "%matplotlib inline\n",
    "import numpy as np"
   ]
  },
  {
   "cell_type": "code",
   "execution_count": 2,
   "metadata": {},
   "outputs": [],
   "source": [
    "# Modifying functions from preprocess\n",
    "from preprocess_functions import load_raw_data\n",
    "\n",
    "unused_cols = ['approxdate', 'resolution', 'eventid', 'extended', 'resolution', \n",
    "                'vicinity', 'location', 'summary', 'crit1', 'crit2', 'crit3', 'doubtterr', \n",
    "                'alternative', 'alternative_txt', 'multiple', 'suicide', 'attacktype1', 'attacktype2', \n",
    "                'attacktype3', 'corp1', 'target1', 'targtype2', 'targsubtype2', 'corp2', \n",
    "                'target2', 'natlty2', 'natlty2_txt', 'targtype3', 'targtype3_txt', 'targsubtype3', \n",
    "                'targsubtype3_txt', 'corp3', 'target3', 'natlty3', 'natlty3_txt', 'gsubname', \n",
    "                'gname2', 'gsubname2', 'gname3', 'gsubname3', 'guncertain1', 'guncertain2', \n",
    "                'guncertain3', 'guncertain3', 'individual', 'nperps', 'nperpcap', 'claimed', \n",
    "                'claimmode', 'claimmode_txt', 'claim2', 'claimmode2', 'claimmode2_txt', 'claim3', \n",
    "                'claimmode3', 'claimmode3_txt', 'compclaim', 'weaptype2', 'weaptype2_txt', 'weapsubtype2', \n",
    "                'weapsubtype2_txt', 'weaptype3', 'weaptype3_txt', 'weapsubtype3', 'weapsubtype3_txt', \n",
    "                'weaptype4', 'weaptype4_txt', 'weapsubtype4', 'weapsubtype4_txt', 'weapdetail', 'ishostkid', \n",
    "                'nhostkid', 'nhostkidus', 'nhours', 'ndays', 'divert', 'kidhijcountry', 'ransomamtus', \n",
    "                'ransompaid', 'ransompaidus', 'ransomnote', 'hostkidoutcome', 'hostkidoutcome_txt', \n",
    "                'nreleased', 'addnotes', 'scite1', 'scite2', 'scite3', 'dbsource', 'INT_LOG', \n",
    "                'INT_IDEO', 'INT_MISC', 'INT_ANY', 'related', 'nkill', 'nkillus', 'nkillter', 'nwound', \n",
    "                'nwoundus', 'nwoundte', 'property','propextent', 'propextent_txt', 'propvalue', 'propcomment', \n",
    "                'ransom', 'ransomamt']\n",
    "\n",
    "def load_data_relevant_cols(): \n",
    "    '''\n",
    "    Output: A pandas dataframe which contains all data points, \n",
    "    but only the columns we actually use.\n",
    "    '''\n",
    "    raw = load_raw_data()\n",
    "    return raw.drop(unused_cols, axis=1)\n",
    "\n",
    "def get_dummies(df, columns):\n",
    "    '''\n",
    "    Output: A Pandas dataframe which contains the one-hot-encoded versions \n",
    "    of the categorical columns specified in 'columns', on the data frame df\n",
    "    '''\n",
    "    output = pd.get_dummies(df[columns[0]], prefix=columns[0])\n",
    "    for column in columns[1:]:\n",
    "        output = output.join(pd.get_dummies(df[column], prefix=column))\n",
    "    return output"
   ]
  },
  {
   "cell_type": "code",
   "execution_count": 3,
   "metadata": {},
   "outputs": [
    {
     "name": "stderr",
     "output_type": "stream",
     "text": [
      "/Users/akhiljalan/anaconda/lib/python3.6/site-packages/IPython/core/interactiveshell.py:2862: DtypeWarning: Columns (4,6,8,10,11,12,17,18,24,29,31,33,35,37,38,39,41,43,45,46,47,49,51,53,54,55,57,58,59,60,61,62,63,64,73,76,79,82,84,86,88,90,92,94,96,97,106,108,114,115,121,123,125,126,127,128,129,134) have mixed types. Specify dtype option on import or set low_memory=False.\n",
      "  exec(code_obj, self.user_global_ns, self.user_ns)\n",
      "/Users/akhiljalan/anaconda/lib/python3.6/site-packages/IPython/core/interactiveshell.py:2862: DtypeWarning: Columns (6,61,62,63,79,94,96,114,115) have mixed types. Specify dtype option on import or set low_memory=False.\n",
      "  exec(code_obj, self.user_global_ns, self.user_ns)\n"
     ]
    }
   ],
   "source": [
    "raw = load_data_relevant_cols()"
   ]
  },
  {
   "cell_type": "code",
   "execution_count": 4,
   "metadata": {},
   "outputs": [
    {
     "data": {
      "text/plain": [
       "array(['iyear', 'imonth', 'iday', 'country', 'country_txt', 'region',\n",
       "       'region_txt', 'provstate', 'city', 'latitude', 'longitude',\n",
       "       'specificity', 'success', 'attacktype1_txt', 'attacktype2_txt',\n",
       "       'attacktype3_txt', 'targtype1', 'targtype1_txt', 'targsubtype1',\n",
       "       'targsubtype1_txt', 'natlty1', 'natlty1_txt', 'targtype2_txt',\n",
       "       'targsubtype2_txt', 'gname', 'motive', 'weaptype1', 'weaptype1_txt',\n",
       "       'weapsubtype1', 'weapsubtype1_txt'], dtype=object)"
      ]
     },
     "execution_count": 4,
     "metadata": {},
     "output_type": "execute_result"
    }
   ],
   "source": [
    "raw.columns.values"
   ]
  },
  {
   "cell_type": "markdown",
   "metadata": {},
   "source": [
    "Now that we have our raw data, we'll turn it into numerical values with a one hot encoding. But there's a problem - our database has over 3,000 terrorist groups, so the vectors would be incredibly large if we one-hot encoded based on group name. To simplify this, we'll label every group not in the top group as \"other\" so the dimension is around 30 instead of 3,000. "
   ]
  },
  {
   "cell_type": "code",
   "execution_count": 5,
   "metadata": {},
   "outputs": [],
   "source": [
    "import shelve \n",
    "\n",
    "#load up intermediate results from counter_terrorism_nb1\n",
    "with shelve.open('intermediate_results/vars1') as db:\n",
    "    top_terror_groups = db['top_terror_groups']"
   ]
  },
  {
   "cell_type": "code",
   "execution_count": 6,
   "metadata": {},
   "outputs": [],
   "source": [
    "top_group_names = [group_tuple[0] for group_tuple in top_terror_groups]"
   ]
  },
  {
   "cell_type": "code",
   "execution_count": 7,
   "metadata": {},
   "outputs": [],
   "source": [
    "top_group_names.append('Unknown')"
   ]
  },
  {
   "cell_type": "code",
   "execution_count": 8,
   "metadata": {},
   "outputs": [],
   "source": [
    "replace_name = lambda group_name: group_name if group_name in top_group_names else 'Other'"
   ]
  },
  {
   "cell_type": "code",
   "execution_count": 9,
   "metadata": {},
   "outputs": [],
   "source": [
    "raw['gname'] = raw['gname'].apply(replace_name)"
   ]
  },
  {
   "cell_type": "code",
   "execution_count": 10,
   "metadata": {},
   "outputs": [
    {
     "data": {
      "text/plain": [
       "0.22939829762254182"
      ]
     },
     "execution_count": 10,
     "metadata": {},
     "output_type": "execute_result"
    }
   ],
   "source": [
    "len(raw['gname'][raw['gname'] == 'Other'])/len(raw)"
   ]
  },
  {
   "cell_type": "markdown",
   "metadata": {},
   "source": [
    "Looks like we've only replaced about 23% of the names, so this isn't tossing out too much information. We're losing some information, but for a quick computational pass it's not terrible.\n",
    "\n",
    "Finally, let's one-hot encode categorial features."
   ]
  },
  {
   "cell_type": "code",
   "execution_count": 12,
   "metadata": {},
   "outputs": [],
   "source": [
    "categorical_features = ['country_txt', 'region_txt', 'attacktype1_txt', 'attacktype2_txt',\n",
    "                       'attacktype3_txt', 'targtype1_txt', 'targsubtype1_txt', 'natlty1_txt', 'targtype2_txt',\n",
    "                       'targsubtype2_txt', 'weaptype1_txt', 'weapsubtype1_txt', 'gname']\n",
    "\n",
    "numerical_features = ['iyear', 'imonth', 'iday', 'latitude', 'longitude', 'success']\n",
    "\n",
    "one_hot_X = get_dummies(raw, categorical_features)\n",
    "numeric_data = raw[numerical_features]\n",
    "all_data = one_hot_X.join(numeric_data).dropna()"
   ]
  },
  {
   "cell_type": "code",
   "execution_count": 13,
   "metadata": {},
   "outputs": [
    {
     "data": {
      "text/html": [
       "<div>\n",
       "<style scoped>\n",
       "    .dataframe tbody tr th:only-of-type {\n",
       "        vertical-align: middle;\n",
       "    }\n",
       "\n",
       "    .dataframe tbody tr th {\n",
       "        vertical-align: top;\n",
       "    }\n",
       "\n",
       "    .dataframe thead th {\n",
       "        text-align: right;\n",
       "    }\n",
       "</style>\n",
       "<table border=\"1\" class=\"dataframe\">\n",
       "  <thead>\n",
       "    <tr style=\"text-align: right;\">\n",
       "      <th></th>\n",
       "      <th>country_txt_Afghanistan</th>\n",
       "      <th>country_txt_Albania</th>\n",
       "      <th>country_txt_Algeria</th>\n",
       "      <th>country_txt_Andorra</th>\n",
       "      <th>country_txt_Angola</th>\n",
       "      <th>country_txt_Antigua and Barbuda</th>\n",
       "      <th>country_txt_Argentina</th>\n",
       "      <th>country_txt_Armenia</th>\n",
       "      <th>country_txt_Australia</th>\n",
       "      <th>country_txt_Austria</th>\n",
       "      <th>...</th>\n",
       "      <th>gname_Taliban</th>\n",
       "      <th>gname_Tehrik-i-Taliban Pakistan (TTP)</th>\n",
       "      <th>gname_Tupac Amaru Revolutionary Movement (MRTA)</th>\n",
       "      <th>gname_Unknown</th>\n",
       "      <th>iyear</th>\n",
       "      <th>imonth</th>\n",
       "      <th>iday</th>\n",
       "      <th>latitude</th>\n",
       "      <th>longitude</th>\n",
       "      <th>success</th>\n",
       "    </tr>\n",
       "  </thead>\n",
       "  <tbody>\n",
       "    <tr>\n",
       "      <th>0</th>\n",
       "      <td>0</td>\n",
       "      <td>0</td>\n",
       "      <td>0</td>\n",
       "      <td>0</td>\n",
       "      <td>0</td>\n",
       "      <td>0</td>\n",
       "      <td>0</td>\n",
       "      <td>0</td>\n",
       "      <td>0</td>\n",
       "      <td>0</td>\n",
       "      <td>...</td>\n",
       "      <td>0</td>\n",
       "      <td>0</td>\n",
       "      <td>0</td>\n",
       "      <td>0</td>\n",
       "      <td>1970.0</td>\n",
       "      <td>7.0</td>\n",
       "      <td>2.0</td>\n",
       "      <td>18.456792</td>\n",
       "      <td>-69.951164</td>\n",
       "      <td>1.0</td>\n",
       "    </tr>\n",
       "    <tr>\n",
       "      <th>1</th>\n",
       "      <td>0</td>\n",
       "      <td>0</td>\n",
       "      <td>0</td>\n",
       "      <td>0</td>\n",
       "      <td>0</td>\n",
       "      <td>0</td>\n",
       "      <td>0</td>\n",
       "      <td>0</td>\n",
       "      <td>0</td>\n",
       "      <td>0</td>\n",
       "      <td>...</td>\n",
       "      <td>0</td>\n",
       "      <td>0</td>\n",
       "      <td>0</td>\n",
       "      <td>0</td>\n",
       "      <td>1970.0</td>\n",
       "      <td>0.0</td>\n",
       "      <td>0.0</td>\n",
       "      <td>19.432608</td>\n",
       "      <td>-99.133207</td>\n",
       "      <td>1.0</td>\n",
       "    </tr>\n",
       "    <tr>\n",
       "      <th>2</th>\n",
       "      <td>0</td>\n",
       "      <td>0</td>\n",
       "      <td>0</td>\n",
       "      <td>0</td>\n",
       "      <td>0</td>\n",
       "      <td>0</td>\n",
       "      <td>0</td>\n",
       "      <td>0</td>\n",
       "      <td>0</td>\n",
       "      <td>0</td>\n",
       "      <td>...</td>\n",
       "      <td>0</td>\n",
       "      <td>0</td>\n",
       "      <td>0</td>\n",
       "      <td>1</td>\n",
       "      <td>1970.0</td>\n",
       "      <td>1.0</td>\n",
       "      <td>0.0</td>\n",
       "      <td>15.478598</td>\n",
       "      <td>120.599741</td>\n",
       "      <td>1.0</td>\n",
       "    </tr>\n",
       "    <tr>\n",
       "      <th>3</th>\n",
       "      <td>0</td>\n",
       "      <td>0</td>\n",
       "      <td>0</td>\n",
       "      <td>0</td>\n",
       "      <td>0</td>\n",
       "      <td>0</td>\n",
       "      <td>0</td>\n",
       "      <td>0</td>\n",
       "      <td>0</td>\n",
       "      <td>0</td>\n",
       "      <td>...</td>\n",
       "      <td>0</td>\n",
       "      <td>0</td>\n",
       "      <td>0</td>\n",
       "      <td>1</td>\n",
       "      <td>1970.0</td>\n",
       "      <td>1.0</td>\n",
       "      <td>0.0</td>\n",
       "      <td>37.983773</td>\n",
       "      <td>23.728157</td>\n",
       "      <td>1.0</td>\n",
       "    </tr>\n",
       "    <tr>\n",
       "      <th>4</th>\n",
       "      <td>0</td>\n",
       "      <td>0</td>\n",
       "      <td>0</td>\n",
       "      <td>0</td>\n",
       "      <td>0</td>\n",
       "      <td>0</td>\n",
       "      <td>0</td>\n",
       "      <td>0</td>\n",
       "      <td>0</td>\n",
       "      <td>0</td>\n",
       "      <td>...</td>\n",
       "      <td>0</td>\n",
       "      <td>0</td>\n",
       "      <td>0</td>\n",
       "      <td>1</td>\n",
       "      <td>1970.0</td>\n",
       "      <td>1.0</td>\n",
       "      <td>0.0</td>\n",
       "      <td>33.580412</td>\n",
       "      <td>130.396361</td>\n",
       "      <td>1.0</td>\n",
       "    </tr>\n",
       "  </tbody>\n",
       "</table>\n",
       "<p>5 rows × 785 columns</p>\n",
       "</div>"
      ],
      "text/plain": [
       "   country_txt_Afghanistan  country_txt_Albania  country_txt_Algeria  \\\n",
       "0                        0                    0                    0   \n",
       "1                        0                    0                    0   \n",
       "2                        0                    0                    0   \n",
       "3                        0                    0                    0   \n",
       "4                        0                    0                    0   \n",
       "\n",
       "   country_txt_Andorra  country_txt_Angola  country_txt_Antigua and Barbuda  \\\n",
       "0                    0                   0                                0   \n",
       "1                    0                   0                                0   \n",
       "2                    0                   0                                0   \n",
       "3                    0                   0                                0   \n",
       "4                    0                   0                                0   \n",
       "\n",
       "   country_txt_Argentina  country_txt_Armenia  country_txt_Australia  \\\n",
       "0                      0                    0                      0   \n",
       "1                      0                    0                      0   \n",
       "2                      0                    0                      0   \n",
       "3                      0                    0                      0   \n",
       "4                      0                    0                      0   \n",
       "\n",
       "   country_txt_Austria   ...     gname_Taliban  \\\n",
       "0                    0   ...                 0   \n",
       "1                    0   ...                 0   \n",
       "2                    0   ...                 0   \n",
       "3                    0   ...                 0   \n",
       "4                    0   ...                 0   \n",
       "\n",
       "   gname_Tehrik-i-Taliban Pakistan (TTP)  \\\n",
       "0                                      0   \n",
       "1                                      0   \n",
       "2                                      0   \n",
       "3                                      0   \n",
       "4                                      0   \n",
       "\n",
       "   gname_Tupac Amaru Revolutionary Movement (MRTA)  gname_Unknown   iyear  \\\n",
       "0                                                0              0  1970.0   \n",
       "1                                                0              0  1970.0   \n",
       "2                                                0              1  1970.0   \n",
       "3                                                0              1  1970.0   \n",
       "4                                                0              1  1970.0   \n",
       "\n",
       "   imonth  iday   latitude   longitude  success  \n",
       "0     7.0   2.0  18.456792  -69.951164      1.0  \n",
       "1     0.0   0.0  19.432608  -99.133207      1.0  \n",
       "2     1.0   0.0  15.478598  120.599741      1.0  \n",
       "3     1.0   0.0  37.983773   23.728157      1.0  \n",
       "4     1.0   0.0  33.580412  130.396361      1.0  \n",
       "\n",
       "[5 rows x 785 columns]"
      ]
     },
     "execution_count": 13,
     "metadata": {},
     "output_type": "execute_result"
    }
   ],
   "source": [
    "all_data.head()"
   ]
  },
  {
   "cell_type": "markdown",
   "metadata": {},
   "source": [
    "All right! Finally, let's do a train-test split and then train some models."
   ]
  },
  {
   "cell_type": "code",
   "execution_count": 14,
   "metadata": {},
   "outputs": [],
   "source": [
    "from sklearn.ensemble import RandomForestClassifier\n",
    "from sklearn.model_selection import train_test_split\n",
    "from sklearn.model_selection import GridSearchCV\n",
    "from sklearn.metrics import accuracy_score\n",
    "np.random.seed(159)"
   ]
  },
  {
   "cell_type": "code",
   "execution_count": 15,
   "metadata": {},
   "outputs": [],
   "source": [
    "y_labels = all_data['success']\n",
    "x_data = all_data.drop(columns=['success'])"
   ]
  },
  {
   "cell_type": "code",
   "execution_count": 16,
   "metadata": {},
   "outputs": [],
   "source": [
    "X_train, X_test, y_train, y_test = train_test_split(x_data, y_labels, test_size=0.1, random_state=42)"
   ]
  },
  {
   "cell_type": "markdown",
   "metadata": {},
   "source": [
    "## Random Forest\n",
    "\n",
    "Let's train the best random forest from last time and see what's up."
   ]
  },
  {
   "cell_type": "code",
   "execution_count": 17,
   "metadata": {},
   "outputs": [
    {
     "data": {
      "text/plain": [
       "RandomForestClassifier(bootstrap=True, class_weight=None, criterion='gini',\n",
       "            max_depth=10, max_features=None, max_leaf_nodes=None,\n",
       "            min_impurity_decrease=0.0, min_impurity_split=None,\n",
       "            min_samples_leaf=1, min_samples_split=2,\n",
       "            min_weight_fraction_leaf=0.0, n_estimators=7, n_jobs=1,\n",
       "            oob_score=False, random_state=159, verbose=0, warm_start=False)"
      ]
     },
     "execution_count": 17,
     "metadata": {},
     "output_type": "execute_result"
    }
   ],
   "source": [
    "init_forest = RandomForestClassifier(n_estimators=7, criterion='gini', max_features=None, \n",
    "                                     random_state=159, max_depth = 10)\n",
    "init_forest.fit(X_train, y_train)"
   ]
  },
  {
   "cell_type": "code",
   "execution_count": 18,
   "metadata": {},
   "outputs": [],
   "source": [
    "y_pred_int = init_forest.predict(X_test)"
   ]
  },
  {
   "cell_type": "code",
   "execution_count": 19,
   "metadata": {},
   "outputs": [
    {
     "data": {
      "text/plain": [
       "0.91324283559577679"
      ]
     },
     "execution_count": 19,
     "metadata": {},
     "output_type": "execute_result"
    }
   ],
   "source": [
    "accuracy_score(y_test, y_pred_int)"
   ]
  },
  {
   "cell_type": "markdown",
   "metadata": {},
   "source": [
    "Nice! Looks like the random forest was still able to get 91% without access to the `nkill` feature. Let's see what features it thinks are important."
   ]
  },
  {
   "cell_type": "code",
   "execution_count": 20,
   "metadata": {},
   "outputs": [],
   "source": [
    "feature_weights = init_forest.feature_importances_\n",
    "feature_names = X_train.columns.values\n",
    "\n",
    "'''\n",
    "Construct a dictionary whose keys are feature names, \n",
    "and values are the feature's importance.\n",
    "'''\n",
    "feature_weight_dict = {}\n",
    "for i in range(len(feature_names)): \n",
    "    feature_weight_dict[feature_names[i]] = feature_weights[i]\n",
    "    \n",
    "#Sort features by importance\n",
    "features_by_importance = sorted(feature_weight_dict, key=feature_weight_dict.get, reverse=True)"
   ]
  },
  {
   "cell_type": "code",
   "execution_count": 21,
   "metadata": {},
   "outputs": [
    {
     "data": {
      "image/png": "[encoded data removed]",
      "text/plain": [
       "<matplotlib.figure.Figure at 0x1a101ecbe0>"
      ]
     },
     "metadata": {},
     "output_type": "display_data"
    }
   ],
   "source": [
    "#plot the features\n",
    "from seaborn import set_style\n",
    "set_style('whitegrid')\n",
    "# sns.set_sytle('whitegrid')\n",
    "num_features = 20\n",
    "plt.figure(figsize=(14, 8))\n",
    "plt.title('Feature Importance for Best Random Forest', fontsize=24)\n",
    "feature_importances = [feature_weight_dict[key] for key in features_by_importance[:num_features]]\n",
    "plt.bar(range(num_features), feature_importances,\n",
    "       color='red', align='center')\n",
    "plt.xticks(range(num_features), features_by_importance[:num_features])\n",
    "plt.xticks(rotation=90)\n",
    "plt.xlabel('Feature Name', fontsize=16)\n",
    "plt.ylabel('Feature Importance', fontsize=16)\n",
    "plt.tight_layout()\n",
    "plt.savefig('figures/random_forest_feature_importance.png')\n",
    "plt.show();"
   ]
  },
  {
   "cell_type": "markdown",
   "metadata": {},
   "source": [
    "## Exploring Feature Importance\n",
    "\n",
    "Let's look at how the trained model corresponds to different features as a predictor of success of the attack. \n",
    "\n",
    "### Year"
   ]
  },
  {
   "cell_type": "code",
   "execution_count": null,
   "metadata": {},
   "outputs": [],
   "source": []
  },
  {
   "cell_type": "code",
   "execution_count": null,
   "metadata": {},
   "outputs": [],
   "source": []
  }
 ],
 "metadata": {
  "kernelspec": {
   "display_name": "Python [conda root]",
   "language": "python",
   "name": "conda-root-py"
  },
  "language_info": {
   "codemirror_mode": {
    "name": "ipython",
    "version": 3
   },
   "file_extension": ".py",
   "mimetype": "text/x-python",
   "name": "python",
   "nbconvert_exporter": "python",
   "pygments_lexer": "ipython3",
   "version": "3.6.3"
  }
 },
 "nbformat": 4,
 "nbformat_minor": 2
}
