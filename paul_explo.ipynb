{
 "cells": [
  {
   "cell_type": "code",
   "execution_count": 130,
   "metadata": {},
   "outputs": [],
   "source": [
    "import pandas as pd\n",
    "import numpy as np\n",
    "import matplotlib.pyplot as plt\n",
    "from preprocess_functions import load_data_relevant_cols\n",
    "from sklearn.linear_model import LassoCV\n",
    "from sklearn.model_selection import train_test_split\n",
    "from sklearn.metrics import roc_auc_score\n",
    "from sklearn.metrics import roc_curve\n",
    "from sklearn.metrics import confusion_matrix\n",
    "from keras.models import Sequential\n",
    "from keras.layers import Dense\n",
    "import keras"
   ]
  },
  {
   "cell_type": "code",
   "execution_count": 13,
   "metadata": {},
   "outputs": [
    {
     "name": "stderr",
     "output_type": "stream",
     "text": [
      "/Users/Paul/anaconda/lib/python3.5/site-packages/IPython/core/interactiveshell.py:2910: DtypeWarning: Columns (4,6,8,10,11,12,17,18,24,29,31,33,35,37,38,39,41,43,45,46,47,49,51,53,54,55,57,58,59,60,61,62,63,64,73,76,79,82,84,86,88,90,92,94,96,97,106,108,114,115,121,123,125,126,127,128,129,134) have mixed types. Specify dtype option on import or set low_memory=False.\n",
      "  exec(code_obj, self.user_global_ns, self.user_ns)\n",
      "/Users/Paul/anaconda/lib/python3.5/site-packages/IPython/core/interactiveshell.py:2910: DtypeWarning: Columns (6,61,62,63,79,94,96,114,115) have mixed types. Specify dtype option on import or set low_memory=False.\n",
      "  exec(code_obj, self.user_global_ns, self.user_ns)\n"
     ]
    }
   ],
   "source": [
    "raw = load_data_relevant_cols()"
   ]
  },
  {
   "cell_type": "code",
   "execution_count": 15,
   "metadata": {},
   "outputs": [
    {
     "data": {
      "text/plain": [
       "Index(['iyear', 'imonth', 'iday', 'country', 'country_txt', 'region',\n",
       "       'region_txt', 'provstate', 'city', 'latitude', 'longitude',\n",
       "       'specificity', 'success', 'attacktype1', 'attacktype1_txt', 'targtype1',\n",
       "       'targtype1_txt', 'targsubtype1', 'targsubtype1_txt', 'natlty1',\n",
       "       'natlty1_txt', 'gname', 'motive', 'weaptype1', 'weaptype1_txt',\n",
       "       'weapsubtype1', 'weapsubtype1_txt', 'nkill', 'nkillus', 'nkillter',\n",
       "       'nwound', 'nwoundus', 'nwoundte', 'property', 'propextent',\n",
       "       'propextent_txt', 'propvalue', 'propcomment', 'ransom', 'ransomamt'],\n",
       "      dtype='object')"
      ]
     },
     "execution_count": 15,
     "metadata": {},
     "output_type": "execute_result"
    }
   ],
   "source": [
    "raw.columns"
   ]
  },
  {
   "cell_type": "markdown",
   "metadata": {},
   "source": [
    "### Lasso-CV to find predictors of success for terrorist attacks\n",
    "X Variables used:\n",
    "- attacktype1_txt dummies\n",
    "- targtype1_txt dummies\n",
    "- targsubtype1_txt dummies? \n",
    "- weaptype1_txt dummies\n",
    "- weapsubtype1_txt dummies?"
   ]
  },
  {
   "cell_type": "code",
   "execution_count": 32,
   "metadata": {},
   "outputs": [],
   "source": [
    "X = pd.get_dummies(raw.attacktype1_txt, prefix='attacktype')\n",
    "X = X.join(pd.get_dummies(raw.targtype1_txt, prefix='targtype'))\n",
    "X = X.join(pd.get_dummies(raw.targsubtype1_txt, prefix='targsubtype'))\n",
    "X = X.join(pd.get_dummies(raw.weaptype1_txt, prefix='weaptype'))\n",
    "X = X.join(pd.get_dummies(raw.weapsubtype1_txt, prefix='weapsubtype'))\n",
    "Y = raw.success"
   ]
  },
  {
   "cell_type": "markdown",
   "metadata": {},
   "source": [
    "- For prediction, predict for success\n",
    "- If we want to cluster attacks, group by country or by terrorist group\n",
    "- MDS\n",
    "- "
   ]
  },
  {
   "cell_type": "code",
   "execution_count": 71,
   "metadata": {},
   "outputs": [],
   "source": [
    "wordbag = []\n",
    "for motive_str in raw.motive.dropna():\n",
    "    for word in motive_str.split():\n",
    "        wordbag.append(word.lower().)"
   ]
  },
  {
   "cell_type": "code",
   "execution_count": 73,
   "metadata": {
    "scrolled": true
   },
   "outputs": [],
   "source": [
    "# pd.Series(wordbag).value_counts()"
   ]
  },
  {
   "cell_type": "code",
   "execution_count": 80,
   "metadata": {},
   "outputs": [],
   "source": [
    "predictor = LassoCV(max_iter=10000, cv=5, verbose=True)\n",
    "X_train, X_test, y_train, y_test = train_test_split(X, Y, test_size=0.1, random_state=42)"
   ]
  },
  {
   "cell_type": "code",
   "execution_count": 81,
   "metadata": {},
   "outputs": [
    {
     "name": "stderr",
     "output_type": "stream",
     "text": [
      "....................................................................................................................................................................................................................................................................................................................................................................................................................................................................................................................[Parallel(n_jobs=1)]: Done   5 out of   5 | elapsed:    6.2s finished\n"
     ]
    },
    {
     "data": {
      "text/plain": [
       "LassoCV(alphas=None, copy_X=True, cv=5, eps=0.001, fit_intercept=True,\n",
       "    max_iter=10000, n_alphas=100, n_jobs=1, normalize=False,\n",
       "    positive=False, precompute='auto', random_state=None,\n",
       "    selection='cyclic', tol=0.0001, verbose=True)"
      ]
     },
     "execution_count": 81,
     "metadata": {},
     "output_type": "execute_result"
    }
   ],
   "source": [
    "predictor.fit(X_train, y_train)"
   ]
  },
  {
   "cell_type": "code",
   "execution_count": 83,
   "metadata": {},
   "outputs": [],
   "source": [
    "y_pred = predictor.predict(X_test)"
   ]
  },
  {
   "cell_type": "code",
   "execution_count": 95,
   "metadata": {},
   "outputs": [],
   "source": [
    "fpr, tpr, thresh = roc_curve(y_test, y_pred)\n",
    "roc_auc = roc_auc_score(y_test, y_pred)"
   ]
  },
  {
   "cell_type": "code",
   "execution_count": 96,
   "metadata": {},
   "outputs": [
    {
     "data": {
      "image/png": "[encoded data removed]",
      "text/plain": [
       "<matplotlib.figure.Figure at 0x11806be48>"
      ]
     },
     "metadata": {},
     "output_type": "display_data"
    }
   ],
   "source": [
    "plt.plot(fpr, tpr, color='darkorange', label='ROC curve (area = %0.2f)' % roc_auc)\n",
    "plt.xlim([0.0, 1.0])\n",
    "plt.ylim([0.0, 1.05])\n",
    "plt.xlabel('False Positive Rate')\n",
    "plt.ylabel('True Positive Rate')\n",
    "plt.title('Receiver operating characteristic example')\n",
    "plt.legend(loc=\"lower right\")\n",
    "plt.show()"
   ]
  },
  {
   "cell_type": "code",
   "execution_count": 100,
   "metadata": {},
   "outputs": [
    {
     "data": {
      "text/plain": [
       "1502"
      ]
     },
     "execution_count": 100,
     "metadata": {},
     "output_type": "execute_result"
    }
   ],
   "source": [
    "np.min(np.where(tpr > 0.9))"
   ]
  },
  {
   "cell_type": "code",
   "execution_count": 110,
   "metadata": {},
   "outputs": [
    {
     "data": {
      "text/plain": [
       "0.55909090909090908"
      ]
     },
     "execution_count": 110,
     "metadata": {},
     "output_type": "execute_result"
    }
   ],
   "source": [
    "fpr[1502]"
   ]
  },
  {
   "cell_type": "code",
   "execution_count": 102,
   "metadata": {},
   "outputs": [],
   "source": [
    "threshold = thresh[1502]"
   ]
  },
  {
   "cell_type": "code",
   "execution_count": 109,
   "metadata": {},
   "outputs": [
    {
     "data": {
      "text/plain": [
       "0.81834278691244589"
      ]
     },
     "execution_count": 109,
     "metadata": {},
     "output_type": "execute_result"
    }
   ],
   "source": [
    "threshold"
   ]
  },
  {
   "cell_type": "code",
   "execution_count": 105,
   "metadata": {},
   "outputs": [],
   "source": [
    "rounded = []\n",
    "for i in y_pred:\n",
    "    if i > threshold:\n",
    "        rounded.append(1)\n",
    "    else:\n",
    "        rounded.append(0)\n",
    "rounded_y_pred = np.array(rounded)"
   ]
  },
  {
   "cell_type": "code",
   "execution_count": 106,
   "metadata": {},
   "outputs": [
    {
     "data": {
      "text/plain": [
       "array([[  777,   983],\n",
       "       [ 1534, 13741]])"
      ]
     },
     "execution_count": 106,
     "metadata": {},
     "output_type": "execute_result"
    }
   ],
   "source": [
    "confusion_matrix(y_test, rounded_y_pred)"
   ]
  },
  {
   "cell_type": "markdown",
   "metadata": {},
   "source": [
    "True Negatives: 777\n",
    "\n",
    "False Negatives: 1534\n",
    "\n",
    "True Positives: 13741\n",
    "\n",
    "False Positives: 983"
   ]
  },
  {
   "cell_type": "code",
   "execution_count": 107,
   "metadata": {},
   "outputs": [],
   "source": [
    "accuracy = (13741+777) / (13741 + 777 + 1534 + 983)"
   ]
  },
  {
   "cell_type": "code",
   "execution_count": 108,
   "metadata": {},
   "outputs": [
    {
     "data": {
      "text/plain": [
       "0.852245377164661"
      ]
     },
     "execution_count": 108,
     "metadata": {},
     "output_type": "execute_result"
    }
   ],
   "source": [
    "accuracy"
   ]
  },
  {
   "cell_type": "code",
   "execution_count": 113,
   "metadata": {},
   "outputs": [],
   "source": [
    "raw.iyear = raw.iyear.astype('int')\n",
    "\n",
    "raw.groupby(['iyear', 'attacktype1_txt']).count()['imonth']"
   ]
  },
  {
   "cell_type": "markdown",
   "metadata": {},
   "source": [
    "# Neural Network"
   ]
  },
  {
   "cell_type": "code",
   "execution_count": 128,
   "metadata": {},
   "outputs": [
    {
     "data": {
      "text/plain": [
       "(153315, 182)"
      ]
     },
     "execution_count": 128,
     "metadata": {},
     "output_type": "execute_result"
    }
   ],
   "source": [
    "X_train.shape"
   ]
  },
  {
   "cell_type": "code",
   "execution_count": 143,
   "metadata": {},
   "outputs": [
    {
     "name": "stdout",
     "output_type": "stream",
     "text": [
      "Train on 153315 samples, validate on 17035 samples\n",
      "Epoch 1/25\n",
      "153315/153315 [==============================] - 12s - loss: 0.2811 - binary_accuracy: 0.9052 - val_loss: 0.2766 - val_binary_accuracy: 0.9066\n",
      "Epoch 2/25\n",
      "153315/153315 [==============================] - 12s - loss: 0.2731 - binary_accuracy: 0.9069 - val_loss: 0.2727 - val_binary_accuracy: 0.9070\n",
      "Epoch 3/25\n",
      "153315/153315 [==============================] - 12s - loss: 0.2706 - binary_accuracy: 0.9078 - val_loss: 0.2708 - val_binary_accuracy: 0.9082\n",
      "Epoch 4/25\n",
      "153315/153315 [==============================] - 12s - loss: 0.2688 - binary_accuracy: 0.9087 - val_loss: 0.2699 - val_binary_accuracy: 0.9088\n",
      "Epoch 5/25\n",
      "153315/153315 [==============================] - 12s - loss: 0.2675 - binary_accuracy: 0.9089 - val_loss: 0.2691 - val_binary_accuracy: 0.9095\n",
      "Epoch 6/25\n",
      "153315/153315 [==============================] - 12s - loss: 0.2665 - binary_accuracy: 0.9094 - val_loss: 0.2687 - val_binary_accuracy: 0.9090\n",
      "Epoch 7/25\n",
      "153315/153315 [==============================] - 12s - loss: 0.2657 - binary_accuracy: 0.9096 - val_loss: 0.2684 - val_binary_accuracy: 0.9095\n",
      "Epoch 8/25\n",
      "153315/153315 [==============================] - 12s - loss: 0.2650 - binary_accuracy: 0.9095 - val_loss: 0.2685 - val_binary_accuracy: 0.9088\n",
      "Epoch 9/25\n",
      "153315/153315 [==============================] - 12s - loss: 0.2646 - binary_accuracy: 0.9096 - val_loss: 0.2668 - val_binary_accuracy: 0.9090\n",
      "Epoch 10/25\n",
      "153315/153315 [==============================] - 13s - loss: 0.2640 - binary_accuracy: 0.9098 - val_loss: 0.2673 - val_binary_accuracy: 0.9086\n",
      "Epoch 11/25\n",
      "153315/153315 [==============================] - 13s - loss: 0.2637 - binary_accuracy: 0.9097 - val_loss: 0.2680 - val_binary_accuracy: 0.9088\n",
      "Epoch 12/25\n",
      "153315/153315 [==============================] - 12s - loss: 0.2633 - binary_accuracy: 0.9099 - val_loss: 0.2666 - val_binary_accuracy: 0.9092\n",
      "Epoch 13/25\n",
      "153315/153315 [==============================] - 13s - loss: 0.2629 - binary_accuracy: 0.9099 - val_loss: 0.2669 - val_binary_accuracy: 0.9097\n",
      "Epoch 14/25\n",
      "153315/153315 [==============================] - 13s - loss: 0.2627 - binary_accuracy: 0.9100 - val_loss: 0.2663 - val_binary_accuracy: 0.9097\n",
      "Epoch 15/25\n",
      "153315/153315 [==============================] - 13s - loss: 0.2623 - binary_accuracy: 0.9100 - val_loss: 0.2669 - val_binary_accuracy: 0.9088\n",
      "Epoch 16/25\n",
      "153315/153315 [==============================] - 12s - loss: 0.2620 - binary_accuracy: 0.9102 - val_loss: 0.2672 - val_binary_accuracy: 0.9094\n",
      "Epoch 17/25\n",
      "153315/153315 [==============================] - 13s - loss: 0.2620 - binary_accuracy: 0.9100 - val_loss: 0.2660 - val_binary_accuracy: 0.9093\n",
      "Epoch 18/25\n",
      "153315/153315 [==============================] - 12s - loss: 0.2617 - binary_accuracy: 0.9100 - val_loss: 0.2658 - val_binary_accuracy: 0.9090\n",
      "Epoch 19/25\n",
      "153315/153315 [==============================] - 13s - loss: 0.2614 - binary_accuracy: 0.9104 - val_loss: 0.2656 - val_binary_accuracy: 0.9094\n",
      "Epoch 20/25\n",
      "153315/153315 [==============================] - 13s - loss: 0.2613 - binary_accuracy: 0.9100 - val_loss: 0.2661 - val_binary_accuracy: 0.9093\n",
      "Epoch 21/25\n",
      "153315/153315 [==============================] - 12s - loss: 0.2612 - binary_accuracy: 0.9103 - val_loss: 0.2659 - val_binary_accuracy: 0.9092\n",
      "Epoch 22/25\n",
      "153315/153315 [==============================] - 13s - loss: 0.2610 - binary_accuracy: 0.9103 - val_loss: 0.2657 - val_binary_accuracy: 0.9092\n",
      "Epoch 23/25\n",
      "153315/153315 [==============================] - 13s - loss: 0.2608 - binary_accuracy: 0.9101 - val_loss: 0.2662 - val_binary_accuracy: 0.9094\n",
      "Epoch 24/25\n",
      "153315/153315 [==============================] - 12s - loss: 0.2607 - binary_accuracy: 0.9105 - val_loss: 0.2659 - val_binary_accuracy: 0.9091\n",
      "Epoch 25/25\n",
      "153315/153315 [==============================] - 13s - loss: 0.2606 - binary_accuracy: 0.9105 - val_loss: 0.2660 - val_binary_accuracy: 0.9092\n"
     ]
    }
   ],
   "source": [
    "model_tanh = Sequential()\n",
    "model_tanh.add(Dense(units=10, activation='tanh', input_dim=182))\n",
    "model_tanh.add(Dense(units=10, activation='tanh'))\n",
    "model_tanh.add(Dense(units=1, activation='sigmoid'))\n",
    "\n",
    "model_tanh.compile(loss=keras.losses.binary_crossentropy, metrics=['binary_accuracy'],\n",
    "              optimizer='adam')\n",
    "\n",
    "history_tanh = model_tanh.fit(X_train.values, y_train, epochs=25, batch_size=32, validation_data=(X_test.values, y_test))"
   ]
  },
  {
   "cell_type": "code",
   "execution_count": 144,
   "metadata": {},
   "outputs": [
    {
     "name": "stdout",
     "output_type": "stream",
     "text": [
      "Train on 153315 samples, validate on 17035 samples\n",
      "Epoch 1/25\n",
      "153315/153315 [==============================] - 12s - loss: 0.2825 - binary_accuracy: 0.9032 - val_loss: 0.2740 - val_binary_accuracy: 0.9082\n",
      "Epoch 2/25\n",
      "153315/153315 [==============================] - 12s - loss: 0.2700 - binary_accuracy: 0.9090 - val_loss: 0.2708 - val_binary_accuracy: 0.9091\n",
      "Epoch 3/25\n",
      "153315/153315 [==============================] - 12s - loss: 0.2679 - binary_accuracy: 0.9094 - val_loss: 0.2702 - val_binary_accuracy: 0.9097\n",
      "Epoch 4/25\n",
      "153315/153315 [==============================] - 12s - loss: 0.2666 - binary_accuracy: 0.9096 - val_loss: 0.2697 - val_binary_accuracy: 0.9098\n",
      "Epoch 5/25\n",
      "153315/153315 [==============================] - 12s - loss: 0.2659 - binary_accuracy: 0.9098 - val_loss: 0.2691 - val_binary_accuracy: 0.9095\n",
      "Epoch 6/25\n",
      "153315/153315 [==============================] - 12s - loss: 0.2652 - binary_accuracy: 0.9098 - val_loss: 0.2689 - val_binary_accuracy: 0.9094\n",
      "Epoch 7/25\n",
      "153315/153315 [==============================] - 12s - loss: 0.2649 - binary_accuracy: 0.9099 - val_loss: 0.2693 - val_binary_accuracy: 0.9098\n",
      "Epoch 8/25\n",
      "153315/153315 [==============================] - 12s - loss: 0.2644 - binary_accuracy: 0.9099 - val_loss: 0.2691 - val_binary_accuracy: 0.9094\n",
      "Epoch 9/25\n",
      "153315/153315 [==============================] - 12s - loss: 0.2640 - binary_accuracy: 0.9100 - val_loss: 0.2701 - val_binary_accuracy: 0.9092\n",
      "Epoch 10/25\n",
      "153315/153315 [==============================] - 12s - loss: 0.2638 - binary_accuracy: 0.9098 - val_loss: 0.2691 - val_binary_accuracy: 0.9091\n",
      "Epoch 11/25\n",
      "153315/153315 [==============================] - 13s - loss: 0.2633 - binary_accuracy: 0.9100 - val_loss: 0.2693 - val_binary_accuracy: 0.9094\n",
      "Epoch 12/25\n",
      "153315/153315 [==============================] - 12s - loss: 0.2632 - binary_accuracy: 0.9101 - val_loss: 0.2688 - val_binary_accuracy: 0.9088\n",
      "Epoch 13/25\n",
      "153315/153315 [==============================] - 12s - loss: 0.2630 - binary_accuracy: 0.9100 - val_loss: 0.2682 - val_binary_accuracy: 0.9094\n",
      "Epoch 14/25\n",
      "153315/153315 [==============================] - 13s - loss: 0.2626 - binary_accuracy: 0.9102 - val_loss: 0.2689 - val_binary_accuracy: 0.9092\n",
      "Epoch 15/25\n",
      "153315/153315 [==============================] - 12s - loss: 0.2625 - binary_accuracy: 0.9102 - val_loss: 0.2683 - val_binary_accuracy: 0.9090\n",
      "Epoch 16/25\n",
      "153315/153315 [==============================] - 12s - loss: 0.2622 - binary_accuracy: 0.9102 - val_loss: 0.2687 - val_binary_accuracy: 0.9094\n",
      "Epoch 17/25\n",
      "153315/153315 [==============================] - 12s - loss: 0.2620 - binary_accuracy: 0.9103 - val_loss: 0.2680 - val_binary_accuracy: 0.9088\n",
      "Epoch 18/25\n",
      "153315/153315 [==============================] - 13s - loss: 0.2619 - binary_accuracy: 0.9102 - val_loss: 0.2687 - val_binary_accuracy: 0.9087\n",
      "Epoch 19/25\n",
      "153315/153315 [==============================] - 12s - loss: 0.2618 - binary_accuracy: 0.9104 - val_loss: 0.2688 - val_binary_accuracy: 0.9091\n",
      "Epoch 20/25\n",
      "153315/153315 [==============================] - 12s - loss: 0.2616 - binary_accuracy: 0.9104 - val_loss: 0.2686 - val_binary_accuracy: 0.9091\n",
      "Epoch 21/25\n",
      "153315/153315 [==============================] - 12s - loss: 0.2615 - binary_accuracy: 0.9104 - val_loss: 0.2701 - val_binary_accuracy: 0.9094\n",
      "Epoch 22/25\n",
      "153315/153315 [==============================] - 12s - loss: 0.2615 - binary_accuracy: 0.9105 - val_loss: 0.2679 - val_binary_accuracy: 0.9088\n",
      "Epoch 23/25\n",
      "153315/153315 [==============================] - 12s - loss: 0.2613 - binary_accuracy: 0.9104 - val_loss: 0.2690 - val_binary_accuracy: 0.9092\n",
      "Epoch 24/25\n",
      "153315/153315 [==============================] - 12s - loss: 0.2612 - binary_accuracy: 0.9105 - val_loss: 0.2683 - val_binary_accuracy: 0.9088\n",
      "Epoch 25/25\n",
      "153315/153315 [==============================] - 12s - loss: 0.2612 - binary_accuracy: 0.9105 - val_loss: 0.2692 - val_binary_accuracy: 0.9087\n"
     ]
    }
   ],
   "source": [
    "model_relu = Sequential()\n",
    "model_relu.add(Dense(units=10, activation='relu', input_dim=182))\n",
    "model_relu.add(Dense(units=10, activation='relu'))\n",
    "model_relu.add(Dense(units=1, activation='sigmoid'))\n",
    "\n",
    "model_relu.compile(loss=keras.losses.binary_crossentropy, metrics=['binary_accuracy'],\n",
    "              optimizer='adam')\n",
    "\n",
    "history_relu = model_relu.fit(X_train.values, y_train, epochs=25, batch_size=32, validation_data=(X_test.values, y_test))"
   ]
  },
  {
   "cell_type": "code",
   "execution_count": 145,
   "metadata": {},
   "outputs": [
    {
     "name": "stdout",
     "output_type": "stream",
     "text": [
      "Train on 153315 samples, validate on 17035 samples\n",
      "Epoch 1/25\n",
      "153315/153315 [==============================] - 12s - loss: 0.2919 - binary_accuracy: 0.9001 - val_loss: 0.2773 - val_binary_accuracy: 0.9053\n",
      "Epoch 2/25\n",
      "153315/153315 [==============================] - 12s - loss: 0.2752 - binary_accuracy: 0.9056 - val_loss: 0.2758 - val_binary_accuracy: 0.9063\n",
      "Epoch 3/25\n",
      "153315/153315 [==============================] - 12s - loss: 0.2745 - binary_accuracy: 0.9063 - val_loss: 0.2755 - val_binary_accuracy: 0.9071\n",
      "Epoch 4/25\n",
      "153315/153315 [==============================] - 12s - loss: 0.2740 - binary_accuracy: 0.9068 - val_loss: 0.2751 - val_binary_accuracy: 0.9071\n",
      "Epoch 5/25\n",
      "153315/153315 [==============================] - 12s - loss: 0.2733 - binary_accuracy: 0.9069 - val_loss: 0.2741 - val_binary_accuracy: 0.9070\n",
      "Epoch 6/25\n",
      "153315/153315 [==============================] - 12s - loss: 0.2726 - binary_accuracy: 0.9070 - val_loss: 0.2738 - val_binary_accuracy: 0.9069\n",
      "Epoch 7/25\n",
      "153315/153315 [==============================] - 12s - loss: 0.2719 - binary_accuracy: 0.9070 - val_loss: 0.2732 - val_binary_accuracy: 0.9070\n",
      "Epoch 8/25\n",
      "153315/153315 [==============================] - 12s - loss: 0.2712 - binary_accuracy: 0.9073 - val_loss: 0.2723 - val_binary_accuracy: 0.9074\n",
      "Epoch 9/25\n",
      "153315/153315 [==============================] - 12s - loss: 0.2707 - binary_accuracy: 0.9076 - val_loss: 0.2724 - val_binary_accuracy: 0.9080\n",
      "Epoch 10/25\n",
      "153315/153315 [==============================] - 12s - loss: 0.2700 - binary_accuracy: 0.9078 - val_loss: 0.2714 - val_binary_accuracy: 0.9072\n",
      "Epoch 11/25\n",
      "153315/153315 [==============================] - 12s - loss: 0.2695 - binary_accuracy: 0.9081 - val_loss: 0.2710 - val_binary_accuracy: 0.9077\n",
      "Epoch 12/25\n",
      "153315/153315 [==============================] - 12s - loss: 0.2690 - binary_accuracy: 0.9086 - val_loss: 0.2704 - val_binary_accuracy: 0.9085\n",
      "Epoch 13/25\n",
      "153315/153315 [==============================] - 12s - loss: 0.2684 - binary_accuracy: 0.9086 - val_loss: 0.2702 - val_binary_accuracy: 0.9088\n",
      "Epoch 14/25\n",
      "153315/153315 [==============================] - 12s - loss: 0.2679 - binary_accuracy: 0.9089 - val_loss: 0.2697 - val_binary_accuracy: 0.9089\n",
      "Epoch 15/25\n",
      "153315/153315 [==============================] - 12s - loss: 0.2675 - binary_accuracy: 0.9090 - val_loss: 0.2698 - val_binary_accuracy: 0.9092\n",
      "Epoch 16/25\n",
      "153315/153315 [==============================] - 12s - loss: 0.2671 - binary_accuracy: 0.9090 - val_loss: 0.2704 - val_binary_accuracy: 0.9084\n",
      "Epoch 17/25\n",
      "153315/153315 [==============================] - 12s - loss: 0.2667 - binary_accuracy: 0.9091 - val_loss: 0.2692 - val_binary_accuracy: 0.9094\n",
      "Epoch 18/25\n",
      "153315/153315 [==============================] - 13s - loss: 0.2664 - binary_accuracy: 0.9091 - val_loss: 0.2689 - val_binary_accuracy: 0.9092\n",
      "Epoch 19/25\n",
      "153315/153315 [==============================] - 12s - loss: 0.2660 - binary_accuracy: 0.9092 - val_loss: 0.2688 - val_binary_accuracy: 0.9090\n",
      "Epoch 20/25\n",
      "153315/153315 [==============================] - 12s - loss: 0.2656 - binary_accuracy: 0.9092 - val_loss: 0.2687 - val_binary_accuracy: 0.9094\n",
      "Epoch 21/25\n",
      "153315/153315 [==============================] - 13s - loss: 0.2653 - binary_accuracy: 0.9093 - val_loss: 0.2685 - val_binary_accuracy: 0.9091\n",
      "Epoch 22/25\n",
      "153315/153315 [==============================] - 12s - loss: 0.2650 - binary_accuracy: 0.9096 - val_loss: 0.2682 - val_binary_accuracy: 0.9089\n",
      "Epoch 23/25\n",
      "153315/153315 [==============================] - 12s - loss: 0.2648 - binary_accuracy: 0.9095 - val_loss: 0.2677 - val_binary_accuracy: 0.9097\n",
      "Epoch 24/25\n",
      "153315/153315 [==============================] - 12s - loss: 0.2645 - binary_accuracy: 0.9095 - val_loss: 0.2677 - val_binary_accuracy: 0.9094\n",
      "Epoch 25/25\n",
      "153315/153315 [==============================] - 12s - loss: 0.2643 - binary_accuracy: 0.9095 - val_loss: 0.2679 - val_binary_accuracy: 0.9095\n"
     ]
    }
   ],
   "source": [
    "model_sigmoid = Sequential()\n",
    "model_sigmoid.add(Dense(units=10, activation='sigmoid', input_dim=182))\n",
    "model_sigmoid.add(Dense(units=10, activation='sigmoid'))\n",
    "model_sigmoid.add(Dense(units=1, activation='sigmoid'))\n",
    "\n",
    "model_sigmoid.compile(loss=keras.losses.binary_crossentropy, metrics=['binary_accuracy'],\n",
    "              optimizer='adam')\n",
    "\n",
    "history_sigmoid = model_sigmoid.fit(X_train.values, y_train, epochs=25, batch_size=32, validation_data=(X_test.values, y_test))"
   ]
  },
  {
   "cell_type": "code",
   "execution_count": 169,
   "metadata": {},
   "outputs": [],
   "source": [
    "def plot_loss(history):\n",
    "    plt.plot(history.history['val_loss'], label='val_loss')\n",
    "    plt.plot(history.history['loss'], label='loss')\n",
    "    plt.legend(loc='upper right')\n",
    "    plt.show()\n",
    "    \n",
    "def plot_accuracy(history):\n",
    "    plt.plot(history.history['val_binary_accuracy'], label='val_accuracy')\n",
    "    plt.plot(history.history['binary_accuracy'], label='accuracy')\n",
    "    plt.legend(loc='lower right')\n",
    "    plt.show()"
   ]
  },
  {
   "cell_type": "code",
   "execution_count": 175,
   "metadata": {},
   "outputs": [
    {
     "data": {
      "image/png": "[encoded data removed]",
      "text/plain": [
       "<matplotlib.figure.Figure at 0x1356a65f8>"
      ]
     },
     "metadata": {},
     "output_type": "display_data"
    }
   ],
   "source": [
    "plot_loss(history_tanh)"
   ]
  },
  {
   "cell_type": "code",
   "execution_count": 176,
   "metadata": {},
   "outputs": [
    {
     "data": {
      "image/png": "[encoded data removed]",
      "text/plain": [
       "<matplotlib.figure.Figure at 0x142317a90>"
      ]
     },
     "metadata": {},
     "output_type": "display_data"
    }
   ],
   "source": [
    "plot_accuracy(history_tanh)"
   ]
  },
  {
   "cell_type": "code",
   "execution_count": 177,
   "metadata": {},
   "outputs": [
    {
     "data": {
      "image/png": "[encoded data removed]",
      "text/plain": [
       "<matplotlib.figure.Figure at 0x143e62780>"
      ]
     },
     "metadata": {},
     "output_type": "display_data"
    },
    {
     "data": {
      "image/png": "[encoded data removed]",
      "text/plain": [
       "<matplotlib.figure.Figure at 0x144adfc18>"
      ]
     },
     "metadata": {},
     "output_type": "display_data"
    }
   ],
   "source": [
    "plot_loss(history_relu)\n",
    "plot_accuracy(history_relu)"
   ]
  },
  {
   "cell_type": "code",
   "execution_count": 178,
   "metadata": {},
   "outputs": [
    {
     "data": {
      "image/png": "[encoded data removed]",
      "text/plain": [
       "<matplotlib.figure.Figure at 0x144cd79b0>"
      ]
     },
     "metadata": {},
     "output_type": "display_data"
    },
    {
     "data": {
      "image/png": "[encoded data removed]",
      "text/plain": [
       "<matplotlib.figure.Figure at 0x144d71f60>"
      ]
     },
     "metadata": {},
     "output_type": "display_data"
    }
   ],
   "source": [
    "plot_loss(history_sigmoid)\n",
    "plot_accuracy(history_sigmoid)"
   ]
  },
  {
   "cell_type": "code",
   "execution_count": 179,
   "metadata": {},
   "outputs": [
    {
     "name": "stdout",
     "output_type": "stream",
     "text": [
      "Train on 153315 samples, validate on 17035 samples\n",
      "Epoch 26/40\n",
      "153315/153315 [==============================] - 12s - loss: 0.2640 - binary_accuracy: 0.9095 - val_loss: 0.2678 - val_binary_accuracy: 0.9095\n",
      "Epoch 27/40\n",
      "153315/153315 [==============================] - 12s - loss: 0.2638 - binary_accuracy: 0.9096 - val_loss: 0.2676 - val_binary_accuracy: 0.9100\n",
      "Epoch 28/40\n",
      "153315/153315 [==============================] - 11s - loss: 0.2636 - binary_accuracy: 0.9098 - val_loss: 0.2675 - val_binary_accuracy: 0.9097\n",
      "Epoch 29/40\n",
      "153315/153315 [==============================] - 11s - loss: 0.2635 - binary_accuracy: 0.9098 - val_loss: 0.2677 - val_binary_accuracy: 0.9094\n",
      "Epoch 30/40\n",
      "153315/153315 [==============================] - 12s - loss: 0.2634 - binary_accuracy: 0.9097 - val_loss: 0.2672 - val_binary_accuracy: 0.9095\n",
      "Epoch 31/40\n",
      "153315/153315 [==============================] - 13s - loss: 0.2632 - binary_accuracy: 0.9098 - val_loss: 0.2670 - val_binary_accuracy: 0.9097\n",
      "Epoch 32/40\n",
      "153315/153315 [==============================] - 12s - loss: 0.2631 - binary_accuracy: 0.9098 - val_loss: 0.2671 - val_binary_accuracy: 0.9095\n",
      "Epoch 33/40\n",
      "153315/153315 [==============================] - 12s - loss: 0.2629 - binary_accuracy: 0.9097 - val_loss: 0.2668 - val_binary_accuracy: 0.9095\n",
      "Epoch 34/40\n",
      "153315/153315 [==============================] - 12s - loss: 0.2626 - binary_accuracy: 0.9099 - val_loss: 0.2668 - val_binary_accuracy: 0.9096\n",
      "Epoch 35/40\n",
      "153315/153315 [==============================] - 12s - loss: 0.2626 - binary_accuracy: 0.9099 - val_loss: 0.2667 - val_binary_accuracy: 0.9095\n",
      "Epoch 36/40\n",
      "153315/153315 [==============================] - 12s - loss: 0.2625 - binary_accuracy: 0.9099 - val_loss: 0.2666 - val_binary_accuracy: 0.9094\n",
      "Epoch 37/40\n",
      "153315/153315 [==============================] - 13s - loss: 0.2625 - binary_accuracy: 0.9097 - val_loss: 0.2672 - val_binary_accuracy: 0.9093\n",
      "Epoch 38/40\n",
      "153315/153315 [==============================] - 13s - loss: 0.2623 - binary_accuracy: 0.9099 - val_loss: 0.2665 - val_binary_accuracy: 0.9095\n",
      "Epoch 39/40\n",
      "153315/153315 [==============================] - 11s - loss: 0.2623 - binary_accuracy: 0.9099 - val_loss: 0.2665 - val_binary_accuracy: 0.9095\n",
      "Epoch 40/40\n",
      "153315/153315 [==============================] - 11s - loss: 0.2621 - binary_accuracy: 0.9100 - val_loss: 0.2672 - val_binary_accuracy: 0.9096\n"
     ]
    }
   ],
   "source": [
    "# More epochs for sigmoid training\n",
    "history_sigmoid2 = model_sigmoid.fit(X_train.values, y_train, epochs=40, batch_size=32, initial_epoch=25, validation_data=(X_test.values, y_test))"
   ]
  },
  {
   "cell_type": "code",
   "execution_count": 180,
   "metadata": {},
   "outputs": [
    {
     "data": {
      "image/png": "[encoded data removed]",
      "text/plain": [
       "<matplotlib.figure.Figure at 0x1356c43c8>"
      ]
     },
     "metadata": {},
     "output_type": "display_data"
    },
    {
     "data": {
      "image/png": "[encoded data removed]",
      "text/plain": [
       "<matplotlib.figure.Figure at 0x1356c4550>"
      ]
     },
     "metadata": {},
     "output_type": "display_data"
    }
   ],
   "source": [
    "plot_loss(history_sigmoid2)\n",
    "plot_accuracy(history_sigmoid2)"
   ]
  },
  {
   "cell_type": "code",
   "execution_count": 185,
   "metadata": {},
   "outputs": [
    {
     "data": {
      "text/plain": [
       "(array([3, 6]),)"
      ]
     },
     "execution_count": 185,
     "metadata": {},
     "output_type": "execute_result"
    }
   ],
   "source": [
    "np.where(history_relu.history['val_binary_accuracy'] == max(history_relu.history['val_binary_accuracy']))"
   ]
  },
  {
   "cell_type": "code",
   "execution_count": 186,
   "metadata": {},
   "outputs": [
    {
     "data": {
      "text/plain": [
       "(array([13]),)"
      ]
     },
     "execution_count": 186,
     "metadata": {},
     "output_type": "execute_result"
    }
   ],
   "source": [
    "np.where(history_tanh.history['val_binary_accuracy'] == max(history_tanh.history['val_binary_accuracy']))"
   ]
  },
  {
   "cell_type": "code",
   "execution_count": 187,
   "metadata": {},
   "outputs": [
    {
     "data": {
      "text/plain": [
       "0.90977399473425435"
      ]
     },
     "execution_count": 187,
     "metadata": {},
     "output_type": "execute_result"
    }
   ],
   "source": [
    "max(history_relu.history['val_binary_accuracy'])"
   ]
  },
  {
   "cell_type": "code",
   "execution_count": 188,
   "metadata": {},
   "outputs": [
    {
     "data": {
      "text/plain": [
       "0.90971529206328283"
      ]
     },
     "execution_count": 188,
     "metadata": {},
     "output_type": "execute_result"
    }
   ],
   "source": [
    "max(history_tanh.history['val_binary_accuracy'])"
   ]
  },
  {
   "cell_type": "code",
   "execution_count": 189,
   "metadata": {
    "scrolled": true
   },
   "outputs": [
    {
     "name": "stdout",
     "output_type": "stream",
     "text": [
      "Train on 153315 samples, validate on 17035 samples\n",
      "Epoch 1/10\n",
      "153315/153315 [==============================] - 13s - loss: 0.2792 - binary_accuracy: 0.9048 - val_loss: 0.2739 - val_binary_accuracy: 0.9070\n",
      "Epoch 2/10\n",
      "153315/153315 [==============================] - 13s - loss: 0.2721 - binary_accuracy: 0.9073 - val_loss: 0.2711 - val_binary_accuracy: 0.9081\n",
      "Epoch 3/10\n",
      "153315/153315 [==============================] - 13s - loss: 0.2692 - binary_accuracy: 0.9087 - val_loss: 0.2692 - val_binary_accuracy: 0.9091\n",
      "Epoch 4/10\n",
      "153315/153315 [==============================] - 13s - loss: 0.2672 - binary_accuracy: 0.9089 - val_loss: 0.2688 - val_binary_accuracy: 0.9088\n",
      "Epoch 5/10\n",
      "153315/153315 [==============================] - 12s - loss: 0.2661 - binary_accuracy: 0.9093 - val_loss: 0.2684 - val_binary_accuracy: 0.9092\n",
      "Epoch 6/10\n",
      "153315/153315 [==============================] - 12s - loss: 0.2652 - binary_accuracy: 0.9093 - val_loss: 0.2682 - val_binary_accuracy: 0.9095\n",
      "Epoch 7/10\n",
      "153315/153315 [==============================] - 12s - loss: 0.2642 - binary_accuracy: 0.9095 - val_loss: 0.2684 - val_binary_accuracy: 0.9091\n",
      "Epoch 8/10\n",
      "153315/153315 [==============================] - 12s - loss: 0.2638 - binary_accuracy: 0.9096 - val_loss: 0.2675 - val_binary_accuracy: 0.9096\n",
      "Epoch 9/10\n",
      "153315/153315 [==============================] - 12s - loss: 0.2633 - binary_accuracy: 0.9096 - val_loss: 0.2671 - val_binary_accuracy: 0.9090\n",
      "Epoch 10/10\n",
      "153315/153315 [==============================] - 12s - loss: 0.2628 - binary_accuracy: 0.9099 - val_loss: 0.2670 - val_binary_accuracy: 0.9095\n"
     ]
    }
   ],
   "source": [
    "# Looks like tanh models with a few epochs are the way to go! Now lets try some different architectures\n",
    "model_wide = Sequential()\n",
    "model_wide.add(Dense(units=32, activation='tanh', input_dim=182))\n",
    "model_wide.add(Dense(units=32, activation='tanh'))\n",
    "model_wide.add(Dense(units=1, activation='sigmoid'))\n",
    "\n",
    "model_wide.compile(loss=keras.losses.binary_crossentropy, metrics=['binary_accuracy'],\n",
    "              optimizer='adam')\n",
    "\n",
    "history_wide = model_wide.fit(X_train.values, y_train, epochs=10, batch_size=32, validation_data=(X_test.values, y_test))\n"
   ]
  },
  {
   "cell_type": "code",
   "execution_count": 190,
   "metadata": {
    "scrolled": true
   },
   "outputs": [
    {
     "name": "stdout",
     "output_type": "stream",
     "text": [
      "Train on 153315 samples, validate on 17035 samples\n",
      "Epoch 1/10\n",
      "153315/153315 [==============================] - 14s - loss: 0.2786 - binary_accuracy: 0.9048 - val_loss: 0.2738 - val_binary_accuracy: 0.9050\n",
      "Epoch 2/10\n",
      "153315/153315 [==============================] - 13s - loss: 0.2718 - binary_accuracy: 0.9079 - val_loss: 0.2717 - val_binary_accuracy: 0.9084\n",
      "Epoch 3/10\n",
      "153315/153315 [==============================] - 13s - loss: 0.2689 - binary_accuracy: 0.9088 - val_loss: 0.2702 - val_binary_accuracy: 0.9085\n",
      "Epoch 4/10\n",
      "153315/153315 [==============================] - 13s - loss: 0.2670 - binary_accuracy: 0.9091 - val_loss: 0.2690 - val_binary_accuracy: 0.9089\n",
      "Epoch 5/10\n",
      "153315/153315 [==============================] - 13s - loss: 0.2655 - binary_accuracy: 0.9095 - val_loss: 0.2682 - val_binary_accuracy: 0.9094\n",
      "Epoch 6/10\n",
      "153315/153315 [==============================] - 13s - loss: 0.2647 - binary_accuracy: 0.9095 - val_loss: 0.2675 - val_binary_accuracy: 0.9088\n",
      "Epoch 7/10\n",
      "153315/153315 [==============================] - 13s - loss: 0.2639 - binary_accuracy: 0.9098 - val_loss: 0.2675 - val_binary_accuracy: 0.9092\n",
      "Epoch 8/10\n",
      "153315/153315 [==============================] - 13s - loss: 0.2632 - binary_accuracy: 0.9096 - val_loss: 0.2672 - val_binary_accuracy: 0.9092\n",
      "Epoch 9/10\n",
      "153315/153315 [==============================] - 14s - loss: 0.2625 - binary_accuracy: 0.9103 - val_loss: 0.2673 - val_binary_accuracy: 0.9094\n",
      "Epoch 10/10\n",
      "153315/153315 [==============================] - 14s - loss: 0.2621 - binary_accuracy: 0.9102 - val_loss: 0.2669 - val_binary_accuracy: 0.9094\n"
     ]
    }
   ],
   "source": [
    "# Looks like tanh models with a few epochs are the way to go! Now lets try some different architectures\n",
    "model_wider = Sequential()\n",
    "model_wider.add(Dense(units=64, activation='tanh', input_dim=182))\n",
    "model_wider.add(Dense(units=64, activation='tanh'))\n",
    "model_wider.add(Dense(units=1, activation='sigmoid'))\n",
    "\n",
    "model_wider.compile(loss=keras.losses.binary_crossentropy, metrics=['binary_accuracy'],\n",
    "              optimizer='adam')\n",
    "\n",
    "history_wide = model_wider.fit(X_train.values, y_train, epochs=10, batch_size=32, validation_data=(X_test.values, y_test))\n"
   ]
  },
  {
   "cell_type": "code",
   "execution_count": 192,
   "metadata": {
    "scrolled": true
   },
   "outputs": [
    {
     "name": "stdout",
     "output_type": "stream",
     "text": [
      "Train on 153315 samples, validate on 17035 samples\n",
      "Epoch 1/15\n",
      "153315/153315 [==============================] - 15s - loss: 0.2811 - binary_accuracy: 0.9051 - val_loss: 0.2739 - val_binary_accuracy: 0.9075\n",
      "Epoch 2/15\n",
      "153315/153315 [==============================] - 14s - loss: 0.2721 - binary_accuracy: 0.9075 - val_loss: 0.2730 - val_binary_accuracy: 0.9080\n",
      "Epoch 3/15\n",
      "153315/153315 [==============================] - 14s - loss: 0.2702 - binary_accuracy: 0.9086 - val_loss: 0.2704 - val_binary_accuracy: 0.9092\n",
      "Epoch 4/15\n",
      "153315/153315 [==============================] - 15s - loss: 0.2687 - binary_accuracy: 0.9090 - val_loss: 0.2701 - val_binary_accuracy: 0.9092\n",
      "Epoch 5/15\n",
      "153315/153315 [==============================] - 13s - loss: 0.2677 - binary_accuracy: 0.9091 - val_loss: 0.2700 - val_binary_accuracy: 0.9091\n",
      "Epoch 6/15\n",
      "153315/153315 [==============================] - 12s - loss: 0.2670 - binary_accuracy: 0.9092 - val_loss: 0.2691 - val_binary_accuracy: 0.9094\n",
      "Epoch 7/15\n",
      "153315/153315 [==============================] - 12s - loss: 0.2664 - binary_accuracy: 0.9093 - val_loss: 0.2694 - val_binary_accuracy: 0.9097\n",
      "Epoch 8/15\n",
      "153315/153315 [==============================] - 12s - loss: 0.2658 - binary_accuracy: 0.9094 - val_loss: 0.2688 - val_binary_accuracy: 0.9096\n",
      "Epoch 9/15\n",
      "153315/153315 [==============================] - 13s - loss: 0.2653 - binary_accuracy: 0.9096 - val_loss: 0.2688 - val_binary_accuracy: 0.9100\n",
      "Epoch 10/15\n",
      "153315/153315 [==============================] - 12s - loss: 0.2647 - binary_accuracy: 0.9097 - val_loss: 0.2693 - val_binary_accuracy: 0.9099\n",
      "Epoch 11/15\n",
      "153315/153315 [==============================] - 14s - loss: 0.2644 - binary_accuracy: 0.9098 - val_loss: 0.2680 - val_binary_accuracy: 0.9098\n",
      "Epoch 12/15\n",
      "153315/153315 [==============================] - 14s - loss: 0.2639 - binary_accuracy: 0.9098 - val_loss: 0.2681 - val_binary_accuracy: 0.9097\n",
      "Epoch 13/15\n",
      "153315/153315 [==============================] - 13s - loss: 0.2636 - binary_accuracy: 0.9099 - val_loss: 0.2673 - val_binary_accuracy: 0.9098\n",
      "Epoch 14/15\n",
      "153315/153315 [==============================] - 13s - loss: 0.2632 - binary_accuracy: 0.9100 - val_loss: 0.2674 - val_binary_accuracy: 0.9096\n",
      "Epoch 15/15\n",
      "153315/153315 [==============================] - 13s - loss: 0.2630 - binary_accuracy: 0.9100 - val_loss: 0.2670 - val_binary_accuracy: 0.9098\n"
     ]
    }
   ],
   "source": [
    "# Looks like tanh models with a few epochs are the way to go! Now lets try some different architectures\n",
    "model_deep = Sequential()\n",
    "model_deep.add(Dense(units=10, activation='tanh', input_dim=182))\n",
    "model_deep.add(Dense(units=10, activation='tanh'))\n",
    "model_deep.add(Dense(units=10, activation='tanh'))\n",
    "model_deep.add(Dense(units=1, activation='sigmoid'))\n",
    "\n",
    "model_deep.compile(loss=keras.losses.binary_crossentropy, metrics=['binary_accuracy'],\n",
    "              optimizer='adam')\n",
    "\n",
    "history_deep = model_deep.fit(X_train.values, y_train, epochs=15, batch_size=32, validation_data=(X_test.values, y_test))\n"
   ]
  },
  {
   "cell_type": "code",
   "execution_count": 193,
   "metadata": {
    "scrolled": true
   },
   "outputs": [
    {
     "name": "stdout",
     "output_type": "stream",
     "text": [
      "Train on 153315 samples, validate on 17035 samples\n",
      "Epoch 1/20\n",
      "153315/153315 [==============================] - 13s - loss: 0.2627 - binary_accuracy: 0.9099 - val_loss: 0.2680 - val_binary_accuracy: 0.9101\n",
      "Epoch 2/20\n",
      "153315/153315 [==============================] - 13s - loss: 0.2624 - binary_accuracy: 0.9101 - val_loss: 0.2674 - val_binary_accuracy: 0.9094\n",
      "Epoch 3/20\n",
      "153315/153315 [==============================] - 13s - loss: 0.2621 - binary_accuracy: 0.9101 - val_loss: 0.2674 - val_binary_accuracy: 0.9094\n",
      "Epoch 4/20\n",
      "153315/153315 [==============================] - 14s - loss: 0.2621 - binary_accuracy: 0.9102 - val_loss: 0.2675 - val_binary_accuracy: 0.9092\n",
      "Epoch 5/20\n",
      "153315/153315 [==============================] - 15s - loss: 0.2619 - binary_accuracy: 0.9101 - val_loss: 0.2670 - val_binary_accuracy: 0.9092\n",
      "Epoch 6/20\n",
      "153315/153315 [==============================] - 15s - loss: 0.2616 - binary_accuracy: 0.9099 - val_loss: 0.2679 - val_binary_accuracy: 0.9092\n",
      "Epoch 7/20\n",
      "153315/153315 [==============================] - 14s - loss: 0.2616 - binary_accuracy: 0.9103 - val_loss: 0.2679 - val_binary_accuracy: 0.9091\n",
      "Epoch 8/20\n",
      "153315/153315 [==============================] - 14s - loss: 0.2613 - binary_accuracy: 0.9102 - val_loss: 0.2671 - val_binary_accuracy: 0.9087\n",
      "Epoch 9/20\n",
      "153315/153315 [==============================] - 14s - loss: 0.2612 - binary_accuracy: 0.9101 - val_loss: 0.2676 - val_binary_accuracy: 0.9093\n",
      "Epoch 10/20\n",
      "153315/153315 [==============================] - 14s - loss: 0.2611 - binary_accuracy: 0.9101 - val_loss: 0.2670 - val_binary_accuracy: 0.9091\n",
      "Epoch 11/20\n",
      "153315/153315 [==============================] - 15s - loss: 0.2609 - binary_accuracy: 0.9101 - val_loss: 0.2671 - val_binary_accuracy: 0.9091\n",
      "Epoch 12/20\n",
      "153315/153315 [==============================] - 15s - loss: 0.2608 - binary_accuracy: 0.9103 - val_loss: 0.2669 - val_binary_accuracy: 0.9095\n",
      "Epoch 13/20\n",
      "153315/153315 [==============================] - 15s - loss: 0.2607 - binary_accuracy: 0.9103 - val_loss: 0.2666 - val_binary_accuracy: 0.9094\n",
      "Epoch 14/20\n",
      "153315/153315 [==============================] - 15s - loss: 0.2606 - binary_accuracy: 0.9103 - val_loss: 0.2665 - val_binary_accuracy: 0.9092\n",
      "Epoch 15/20\n",
      "153315/153315 [==============================] - 14s - loss: 0.2604 - binary_accuracy: 0.9105 - val_loss: 0.2667 - val_binary_accuracy: 0.9093\n",
      "Epoch 16/20\n",
      "153315/153315 [==============================] - 14s - loss: 0.2603 - binary_accuracy: 0.9104 - val_loss: 0.2668 - val_binary_accuracy: 0.9094\n",
      "Epoch 17/20\n",
      "153315/153315 [==============================] - 14s - loss: 0.2603 - binary_accuracy: 0.9105 - val_loss: 0.2669 - val_binary_accuracy: 0.9092\n",
      "Epoch 18/20\n",
      "153315/153315 [==============================] - 14s - loss: 0.2601 - binary_accuracy: 0.9106 - val_loss: 0.2675 - val_binary_accuracy: 0.9093\n",
      "Epoch 19/20\n",
      "153315/153315 [==============================] - 14s - loss: 0.2600 - binary_accuracy: 0.9105 - val_loss: 0.2673 - val_binary_accuracy: 0.9092\n",
      "Epoch 20/20\n",
      "153315/153315 [==============================] - 14s - loss: 0.2599 - binary_accuracy: 0.9107 - val_loss: 0.2665 - val_binary_accuracy: 0.9089\n"
     ]
    }
   ],
   "source": [
    "model_big = Sequential()\n",
    "model_big.add(Dense(units=32, activation='tanh', input_dim=182))\n",
    "model_big.add(Dense(units=32, activation='tanh'))\n",
    "model_big.add(Dense(units=32, activation='tanh'))\n",
    "model_big.add(Dense(units=1, activation='sigmoid'))\n",
    "\n",
    "model_big.compile(loss=keras.losses.binary_crossentropy, metrics=['binary_accuracy'],\n",
    "              optimizer='adam')\n",
    "\n",
    "history_big = model_deep.fit(X_train.values, y_train, epochs=20, batch_size=32, validation_data=(X_test.values, y_test))\n"
   ]
  },
  {
   "cell_type": "code",
   "execution_count": 195,
   "metadata": {},
   "outputs": [
    {
     "name": "stdout",
     "output_type": "stream",
     "text": [
      "Train on 153315 samples, validate on 17035 samples\n",
      "Epoch 1/15\n",
      "153315/153315 [==============================] - 15s - loss: 0.2946 - binary_accuracy: 0.9045 - val_loss: 0.2911 - val_binary_accuracy: 0.9063\n",
      "Epoch 2/15\n",
      "153315/153315 [==============================] - 15s - loss: 0.2832 - binary_accuracy: 0.9056 - val_loss: 0.2825 - val_binary_accuracy: 0.9031\n",
      "Epoch 3/15\n",
      "153315/153315 [==============================] - 15s - loss: 0.2813 - binary_accuracy: 0.9059 - val_loss: 0.2824 - val_binary_accuracy: 0.9067\n",
      "Epoch 4/15\n",
      "153315/153315 [==============================] - 15s - loss: 0.2802 - binary_accuracy: 0.9063 - val_loss: 0.2829 - val_binary_accuracy: 0.9035\n",
      "Epoch 5/15\n",
      "153315/153315 [==============================] - 15s - loss: 0.2798 - binary_accuracy: 0.9067 - val_loss: 0.2788 - val_binary_accuracy: 0.9074\n",
      "Epoch 6/15\n",
      "153315/153315 [==============================] - 15s - loss: 0.2794 - binary_accuracy: 0.9072 - val_loss: 0.2819 - val_binary_accuracy: 0.9070\n",
      "Epoch 7/15\n",
      "153315/153315 [==============================] - 15s - loss: 0.2793 - binary_accuracy: 0.9075 - val_loss: 0.2791 - val_binary_accuracy: 0.9063\n",
      "Epoch 8/15\n",
      "153315/153315 [==============================] - 15s - loss: 0.2793 - binary_accuracy: 0.9074 - val_loss: 0.2798 - val_binary_accuracy: 0.9083\n",
      "Epoch 9/15\n",
      "153315/153315 [==============================] - 15s - loss: 0.2791 - binary_accuracy: 0.9074 - val_loss: 0.2793 - val_binary_accuracy: 0.9084\n",
      "Epoch 10/15\n",
      "153315/153315 [==============================] - 15s - loss: 0.2788 - binary_accuracy: 0.9076 - val_loss: 0.2795 - val_binary_accuracy: 0.9072\n",
      "Epoch 11/15\n",
      "153315/153315 [==============================] - 15s - loss: 0.2787 - binary_accuracy: 0.9076 - val_loss: 0.2800 - val_binary_accuracy: 0.9074\n",
      "Epoch 12/15\n",
      "153315/153315 [==============================] - 15s - loss: 0.2785 - binary_accuracy: 0.9073 - val_loss: 0.2790 - val_binary_accuracy: 0.9084\n",
      "Epoch 13/15\n",
      "153315/153315 [==============================] - 15s - loss: 0.2783 - binary_accuracy: 0.9077 - val_loss: 0.2824 - val_binary_accuracy: 0.9075\n",
      "Epoch 14/15\n",
      "153315/153315 [==============================] - 15s - loss: 0.2783 - binary_accuracy: 0.9077 - val_loss: 0.2795 - val_binary_accuracy: 0.9079\n",
      "Epoch 15/15\n",
      "153315/153315 [==============================] - 15s - loss: 0.2783 - binary_accuracy: 0.9078 - val_loss: 0.2814 - val_binary_accuracy: 0.9070\n"
     ]
    }
   ],
   "source": [
    "# Looks like deep tanh models with a few epochs have steady losses! Now lets try some different architectures\n",
    "from keras import regularizers\n",
    "model_deep_l2 = Sequential()\n",
    "model_deep_l2.add(Dense(units=10, activation='tanh', input_dim=182, kernel_regularizer=regularizers.l2(0.01)))\n",
    "model_deep_l2.add(Dense(units=10, activation='tanh'))\n",
    "model_deep_l2.add(Dense(units=10, activation='tanh'))\n",
    "model_deep_l2.add(Dense(units=1, activation='sigmoid'))\n",
    "\n",
    "model_deep_l2.compile(loss=keras.losses.binary_crossentropy, metrics=['binary_accuracy'],\n",
    "              optimizer='adam')\n",
    "\n",
    "history_deep_l2 = model_deep_l2.fit(X_train.values, y_train, epochs=15, batch_size=32, validation_data=(X_test.values, y_test))\n"
   ]
  },
  {
   "cell_type": "code",
   "execution_count": 196,
   "metadata": {},
   "outputs": [
    {
     "name": "stdout",
     "output_type": "stream",
     "text": [
      "Train on 153315 samples, validate on 17035 samples\n",
      "Epoch 1/15\n",
      "153315/153315 [==============================] - 15s - loss: 0.3349 - binary_accuracy: 0.9030 - val_loss: 0.3025 - val_binary_accuracy: 0.9024\n",
      "Epoch 2/15\n",
      "153315/153315 [==============================] - 14s - loss: 0.2994 - binary_accuracy: 0.9054 - val_loss: 0.2953 - val_binary_accuracy: 0.9038\n",
      "Epoch 3/15\n",
      "153315/153315 [==============================] - 14s - loss: 0.2969 - binary_accuracy: 0.9052 - val_loss: 0.2981 - val_binary_accuracy: 0.9011\n",
      "Epoch 4/15\n",
      "153315/153315 [==============================] - 14s - loss: 0.2966 - binary_accuracy: 0.9050 - val_loss: 0.2950 - val_binary_accuracy: 0.9065\n",
      "Epoch 5/15\n",
      "153315/153315 [==============================] - 14s - loss: 0.2966 - binary_accuracy: 0.9056 - val_loss: 0.2980 - val_binary_accuracy: 0.9016\n",
      "Epoch 6/15\n",
      "153315/153315 [==============================] - 14s - loss: 0.2965 - binary_accuracy: 0.9054 - val_loss: 0.2972 - val_binary_accuracy: 0.9036\n",
      "Epoch 7/15\n",
      "153315/153315 [==============================] - 14s - loss: 0.2964 - binary_accuracy: 0.9053 - val_loss: 0.2959 - val_binary_accuracy: 0.9066\n",
      "Epoch 8/15\n",
      "153315/153315 [==============================] - 14s - loss: 0.2962 - binary_accuracy: 0.9051 - val_loss: 0.2944 - val_binary_accuracy: 0.9039\n",
      "Epoch 9/15\n",
      "153315/153315 [==============================] - 14s - loss: 0.2962 - binary_accuracy: 0.9054 - val_loss: 0.2972 - val_binary_accuracy: 0.9049\n",
      "Epoch 10/15\n",
      "153315/153315 [==============================] - 14s - loss: 0.2962 - binary_accuracy: 0.9053 - val_loss: 0.3004 - val_binary_accuracy: 0.9026\n",
      "Epoch 11/15\n",
      "153315/153315 [==============================] - 14s - loss: 0.2963 - binary_accuracy: 0.9055 - val_loss: 0.2963 - val_binary_accuracy: 0.9034\n",
      "Epoch 12/15\n",
      "153315/153315 [==============================] - 14s - loss: 0.2963 - binary_accuracy: 0.9056 - val_loss: 0.2963 - val_binary_accuracy: 0.9070\n",
      "Epoch 13/15\n",
      "153315/153315 [==============================] - 15s - loss: 0.2964 - binary_accuracy: 0.9053 - val_loss: 0.2987 - val_binary_accuracy: 0.9064\n",
      "Epoch 14/15\n",
      "153315/153315 [==============================] - 14s - loss: 0.2962 - binary_accuracy: 0.9055 - val_loss: 0.2967 - val_binary_accuracy: 0.9036\n",
      "Epoch 15/15\n",
      "153315/153315 [==============================] - 15s - loss: 0.2961 - binary_accuracy: 0.9055 - val_loss: 0.2953 - val_binary_accuracy: 0.9063\n"
     ]
    }
   ],
   "source": [
    "# Looks like deep tanh models with a few epochs have steady losses! Now lets try some different architectures\n",
    "from keras import regularizers\n",
    "model_deep_l1 = Sequential()\n",
    "model_deep_l1.add(Dense(units=10, activation='tanh', input_dim=182, kernel_regularizer=regularizers.l1(0.01)))\n",
    "model_deep_l1.add(Dense(units=10, activation='tanh'))\n",
    "model_deep_l1.add(Dense(units=10, activation='tanh'))\n",
    "model_deep_l1.add(Dense(units=1, activation='sigmoid'))\n",
    "\n",
    "model_deep_l1.compile(loss=keras.losses.binary_crossentropy, metrics=['binary_accuracy'],\n",
    "              optimizer='adam')\n",
    "\n",
    "history_deep_l1 = model_deep_l1.fit(X_train.values, y_train, epochs=15, batch_size=32, validation_data=(X_test.values, y_test))\n"
   ]
  },
  {
   "cell_type": "code",
   "execution_count": null,
   "metadata": {},
   "outputs": [],
   "source": []
  }
 ],
 "metadata": {
  "kernelspec": {
   "display_name": "Python [conda root]",
   "language": "python",
   "name": "conda-root-py"
  },
  "language_info": {
   "codemirror_mode": {
    "name": "ipython",
    "version": 3
   },
   "file_extension": ".py",
   "mimetype": "text/x-python",
   "name": "python",
   "nbconvert_exporter": "python",
   "pygments_lexer": "ipython3",
   "version": "3.5.4"
  }
 },
 "nbformat": 4,
 "nbformat_minor": 2
}
