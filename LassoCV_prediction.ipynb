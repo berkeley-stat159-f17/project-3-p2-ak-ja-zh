{
 "cells": [
  {
   "cell_type": "markdown",
   "metadata": {},
   "source": [
    "## Predicting terrorist attack success from attack characteristics, using Cross-Validated Lasso"
   ]
  },
  {
   "cell_type": "markdown",
   "metadata": {},
   "source": [
    "The goal of this section is to predict whether an attack will \n",
    "succeed or fail, given the characteristics of the attack. The \n",
    "X is categorical one-hot-encoded features describing the attack, \n",
    "while the Y is the success or failure of the attack. Success \n",
    "is defined according to the definition of success in the code book. \n",
    "\n",
    "For this section we will use a neural network model to perform the\n",
    "prediction. "
   ]
  },
  {
   "cell_type": "code",
   "execution_count": 2,
   "metadata": {},
   "outputs": [],
   "source": [
    "# Library imports. sklearn's LassoCV class used for Lasso model\n",
    "import pandas as pd\n",
    "import numpy as np\n",
    "import matplotlib.pyplot as plt\n",
    "from preprocess_functions import load_data_relevant_cols\n",
    "from preprocess_functions import get_dummies\n",
    "from sklearn.linear_model import LassoCV\n",
    "from sklearn.model_selection import train_test_split\n",
    "from sklearn.metrics import roc_auc_score\n",
    "from sklearn.metrics import roc_curve\n",
    "from sklearn.metrics import confusion_matrix"
   ]
  },
  {
   "cell_type": "code",
   "execution_count": 3,
   "metadata": {},
   "outputs": [
    {
     "name": "stderr",
     "output_type": "stream",
     "text": [
      "/Users/Paul/anaconda/lib/python3.5/site-packages/IPython/core/interactiveshell.py:2910: DtypeWarning: Columns (4,6,8,10,11,12,17,18,24,29,31,33,35,37,38,39,41,43,45,46,47,49,51,53,54,55,57,58,59,60,61,62,63,64,73,76,79,82,84,86,88,90,92,94,96,97,106,108,114,115,121,123,125,126,127,128,129,134) have mixed types. Specify dtype option on import or set low_memory=False.\n",
      "  exec(code_obj, self.user_global_ns, self.user_ns)\n",
      "/Users/Paul/anaconda/lib/python3.5/site-packages/IPython/core/interactiveshell.py:2910: DtypeWarning: Columns (6,61,62,63,79,94,96,114,115) have mixed types. Specify dtype option on import or set low_memory=False.\n",
      "  exec(code_obj, self.user_global_ns, self.user_ns)\n"
     ]
    }
   ],
   "source": [
    "# Loading data\n",
    "raw = load_data_relevant_cols()"
   ]
  },
  {
   "cell_type": "markdown",
   "metadata": {},
   "source": [
    "### Lasso-CV to find predictors of success for terrorist attacks\n",
    "X Variables used:\n",
    "- attacktype1_txt\n",
    "- targtype1_txt\n",
    "- targsubtype1_txt\n",
    "- weaptype1_txt\n",
    "- weapsubtype1_txt"
   ]
  },
  {
   "cell_type": "code",
   "execution_count": 4,
   "metadata": {},
   "outputs": [
    {
     "name": "stdout",
     "output_type": "stream",
     "text": [
      "['Assassination' 'Hostage Taking (Kidnapping)' 'Bombing/Explosion'\n",
      " 'Facility/Infrastructure Attack' 'Armed Assault' 'Hijacking' 'Unknown'\n",
      " 'Unarmed Assault' 'Hostage Taking (Barricade Incident)']\n"
     ]
    }
   ],
   "source": [
    "# Variable Examples:\n",
    "print(raw.attacktype1_txt.unique()[0:10])"
   ]
  },
  {
   "cell_type": "code",
   "execution_count": 5,
   "metadata": {},
   "outputs": [
    {
     "name": "stdout",
     "output_type": "stream",
     "text": [
      "['Private Citizens & Property' 'Government (Diplomatic)'\n",
      " 'Journalists & Media' 'Police' 'Utilities' 'Military'\n",
      " 'Government (General)' 'Airports & Aircraft' 'Business'\n",
      " 'Educational Institution']\n"
     ]
    }
   ],
   "source": [
    "print(raw.targtype1_txt.unique()[0:10])"
   ]
  },
  {
   "cell_type": "code",
   "execution_count": 6,
   "metadata": {},
   "outputs": [
    {
     "name": "stdout",
     "output_type": "stream",
     "text": [
      "['Named Civilian' 'Diplomatic Personnel (outside of embassy, consulate)'\n",
      " 'Radio Journalist/Staff/Facility' 'Embassy/Consulate'\n",
      " 'Police Building (headquarters, station, school)'\n",
      " 'Police Security Forces/Officers' 'Electricity'\n",
      " 'Military Recruiting Station/Academy'\n",
      " 'Government Building/Facility/Office'\n",
      " 'Military Barracks/Base/Headquarters/Checkpost']\n"
     ]
    }
   ],
   "source": [
    "print(raw.targsubtype1_txt.unique()[0:10])"
   ]
  },
  {
   "cell_type": "code",
   "execution_count": 7,
   "metadata": {},
   "outputs": [
    {
     "name": "stdout",
     "output_type": "stream",
     "text": [
      "['Unknown' 'Explosives/Bombs/Dynamite' 'Incendiary' 'Firearms' 'Chemical'\n",
      " 'Fake Weapons' 'Melee' 'Sabotage Equipment'\n",
      " 'Vehicle (not to include vehicle-borne explosives, i.e., car or truck bombs)'\n",
      " 'Radiological']\n"
     ]
    }
   ],
   "source": [
    "print(raw.weaptype1_txt.unique()[0:10])"
   ]
  },
  {
   "cell_type": "code",
   "execution_count": 8,
   "metadata": {},
   "outputs": [
    {
     "name": "stdout",
     "output_type": "stream",
     "text": [
      "[nan 'Unknown Explosive Type' 'Unknown Gun Type' 'Automatic Weapon'\n",
      " 'Molotov Cocktail/Petrol Bomb' 'Gasoline or Alcohol'\n",
      " 'Rifle/Shotgun (non-automatic)' 'Arson/Fire'\n",
      " 'Projectile (rockets, mortars, RPGs, etc.)' 'Vehicle']\n"
     ]
    }
   ],
   "source": [
    "print(raw.weapsubtype1_txt.unique()[0:10])"
   ]
  },
  {
   "cell_type": "markdown",
   "metadata": {},
   "source": [
    "To use the categorical variables for analysis, we need to convert them to one-hot-encoded dummy variables, using pandas built in get_dummies function"
   ]
  },
  {
   "cell_type": "code",
   "execution_count": 9,
   "metadata": {},
   "outputs": [],
   "source": [
    "# Making one-hot-encoded dummy variables\n",
    "rel_columns = ['attacktype1_txt', 'targtype1_txt', 'targsubtype1_txt', 'weaptype1_txt', 'weapsubtype1_txt']\n",
    "X = get_dummies(raw, rel_columns)\n",
    "Y = raw.success"
   ]
  },
  {
   "cell_type": "markdown",
   "metadata": {},
   "source": [
    "We will perform Lasso regression with cross validation to determine the optimal lasso alpha, using sklearn's pre-build LassoCV class. \n",
    "\n",
    "Lasso regression coefficients will also tell us which features were the best predictors for attack success. "
   ]
  },
  {
   "cell_type": "code",
   "execution_count": 10,
   "metadata": {},
   "outputs": [],
   "source": [
    "# LassoCV object and making training and test set\n",
    "predictor = LassoCV(max_iter=10000, cv=5, verbose=True)\n",
    "X_train, X_test, y_train, y_test = train_test_split(X, Y, test_size=0.1, random_state=42)"
   ]
  },
  {
   "cell_type": "code",
   "execution_count": 11,
   "metadata": {},
   "outputs": [
    {
     "name": "stderr",
     "output_type": "stream",
     "text": [
      "....................................................................................................................................................................................................................................................................................................................................................................................................................................................................................................................[Parallel(n_jobs=1)]: Done   5 out of   5 | elapsed:    6.1s finished\n"
     ]
    },
    {
     "data": {
      "text/plain": [
       "LassoCV(alphas=None, copy_X=True, cv=5, eps=0.001, fit_intercept=True,\n",
       "    max_iter=10000, n_alphas=100, n_jobs=1, normalize=False,\n",
       "    positive=False, precompute='auto', random_state=None,\n",
       "    selection='cyclic', tol=0.0001, verbose=True)"
      ]
     },
     "execution_count": 11,
     "metadata": {},
     "output_type": "execute_result"
    }
   ],
   "source": [
    "predictor.fit(X_train, y_train)"
   ]
  },
  {
   "cell_type": "code",
   "execution_count": 12,
   "metadata": {},
   "outputs": [],
   "source": [
    "y_pred = predictor.predict(X_test)"
   ]
  },
  {
   "cell_type": "code",
   "execution_count": 13,
   "metadata": {},
   "outputs": [],
   "source": [
    "# Using sklearn's roc_curve function\n",
    "fpr, tpr, thresh = roc_curve(y_test, y_pred)\n",
    "roc_auc = roc_auc_score(y_test, y_pred)"
   ]
  },
  {
   "cell_type": "code",
   "execution_count": 14,
   "metadata": {},
   "outputs": [
    {
     "data": {
      "image/png": "[encoded data removed]",
      "text/plain": [
       "<matplotlib.figure.Figure at 0x10ec50400>"
      ]
     },
     "metadata": {},
     "output_type": "display_data"
    }
   ],
   "source": [
    "plt.plot(fpr, tpr, color='darkorange', label='ROC curve (area = %0.2f)' % roc_auc)\n",
    "plt.xlim([0.0, 1.0])\n",
    "plt.ylim([0.0, 1.05])\n",
    "plt.xlabel('False Positive Rate')\n",
    "plt.ylabel('True Positive Rate')\n",
    "plt.title('ROC curve for LassoCV Predictions')\n",
    "plt.legend(loc=\"lower right\")\n",
    "plt.savefig('figures/lassoROC')\n",
    "plt.show()"
   ]
  },
  {
   "cell_type": "code",
   "execution_count": 15,
   "metadata": {},
   "outputs": [],
   "source": [
    "# Choosing the rounding threshold where the true positive rate\n",
    "# is greater than 0.9\n",
    "loc = np.min(np.where(tpr > 0.9))\n",
    "fpr[loc]\n",
    "threshold = thresh[loc]\n",
    "# Rounding the predictions based on the threshold\n",
    "rounded = []\n",
    "for i in y_pred:\n",
    "    if i > threshold:\n",
    "        rounded.append(1)\n",
    "    else:\n",
    "        rounded.append(0)\n",
    "rounded_y_pred = np.array(rounded)"
   ]
  },
  {
   "cell_type": "code",
   "execution_count": 16,
   "metadata": {},
   "outputs": [
    {
     "data": {
      "text/plain": [
       "array([[  777,   983],\n",
       "       [ 1534, 13741]])"
      ]
     },
     "execution_count": 16,
     "metadata": {},
     "output_type": "execute_result"
    }
   ],
   "source": [
    "confusion_matrix(y_test, rounded_y_pred)"
   ]
  },
  {
   "cell_type": "markdown",
   "metadata": {},
   "source": [
    "True Negatives: 777\n",
    "\n",
    "False Negatives: 1534\n",
    "\n",
    "True Positives: 13741\n",
    "\n",
    "False Positives: 983"
   ]
  },
  {
   "cell_type": "markdown",
   "metadata": {},
   "source": [
    "Calculating the raw binary accuracy rate"
   ]
  },
  {
   "cell_type": "code",
   "execution_count": 18,
   "metadata": {},
   "outputs": [],
   "source": [
    "accuracy = (13741+777) / (13741 + 777 + 1534 + 983)"
   ]
  },
  {
   "cell_type": "code",
   "execution_count": 19,
   "metadata": {},
   "outputs": [
    {
     "data": {
      "text/plain": [
       "0.852245377164661"
      ]
     },
     "execution_count": 19,
     "metadata": {},
     "output_type": "execute_result"
    }
   ],
   "source": [
    "accuracy"
   ]
  },
  {
   "cell_type": "code",
   "execution_count": 20,
   "metadata": {},
   "outputs": [
    {
     "data": {
      "text/html": [
       "<div>\n",
       "<style scoped>\n",
       "    .dataframe tbody tr th:only-of-type {\n",
       "        vertical-align: middle;\n",
       "    }\n",
       "\n",
       "    .dataframe tbody tr th {\n",
       "        vertical-align: top;\n",
       "    }\n",
       "\n",
       "    .dataframe thead th {\n",
       "        text-align: right;\n",
       "    }\n",
       "</style>\n",
       "<table border=\"1\" class=\"dataframe\">\n",
       "  <thead>\n",
       "    <tr style=\"text-align: right;\">\n",
       "      <th></th>\n",
       "      <th>coef</th>\n",
       "      <th>variable</th>\n",
       "    </tr>\n",
       "  </thead>\n",
       "  <tbody>\n",
       "    <tr>\n",
       "      <th>149</th>\n",
       "      <td>-0.564423</td>\n",
       "      <td>weaptype1_txt_Radiological</td>\n",
       "    </tr>\n",
       "    <tr>\n",
       "      <th>28</th>\n",
       "      <td>-0.493795</td>\n",
       "      <td>targtype1_txt_Unknown</td>\n",
       "    </tr>\n",
       "    <tr>\n",
       "      <th>141</th>\n",
       "      <td>-0.332358</td>\n",
       "      <td>weaptype1_txt_Biological</td>\n",
       "    </tr>\n",
       "    <tr>\n",
       "      <th>164</th>\n",
       "      <td>-0.261598</td>\n",
       "      <td>weapsubtype1_txt_Letter Bomb</td>\n",
       "    </tr>\n",
       "    <tr>\n",
       "      <th>144</th>\n",
       "      <td>-0.238493</td>\n",
       "      <td>weaptype1_txt_Fake Weapons</td>\n",
       "    </tr>\n",
       "    <tr>\n",
       "      <th>59</th>\n",
       "      <td>-0.209693</td>\n",
       "      <td>targsubtype1_txt_Head of State</td>\n",
       "    </tr>\n",
       "    <tr>\n",
       "      <th>100</th>\n",
       "      <td>-0.189761</td>\n",
       "      <td>targsubtype1_txt_Personnel</td>\n",
       "    </tr>\n",
       "    <tr>\n",
       "      <th>177</th>\n",
       "      <td>-0.179400</td>\n",
       "      <td>weapsubtype1_txt_Time Fuse</td>\n",
       "    </tr>\n",
       "    <tr>\n",
       "      <th>142</th>\n",
       "      <td>-0.159859</td>\n",
       "      <td>weaptype1_txt_Chemical</td>\n",
       "    </tr>\n",
       "    <tr>\n",
       "      <th>1</th>\n",
       "      <td>-0.153337</td>\n",
       "      <td>attacktype1_txt_Assassination</td>\n",
       "    </tr>\n",
       "    <tr>\n",
       "      <th>148</th>\n",
       "      <td>-0.141015</td>\n",
       "      <td>weaptype1_txt_Other</td>\n",
       "    </tr>\n",
       "    <tr>\n",
       "      <th>67</th>\n",
       "      <td>-0.137352</td>\n",
       "      <td>targsubtype1_txt_Internet Infrastructure</td>\n",
       "    </tr>\n",
       "    <tr>\n",
       "      <th>143</th>\n",
       "      <td>-0.128361</td>\n",
       "      <td>weaptype1_txt_Explosives/Bombs/Dynamite</td>\n",
       "    </tr>\n",
       "    <tr>\n",
       "      <th>166</th>\n",
       "      <td>-0.108390</td>\n",
       "      <td>weapsubtype1_txt_Other Explosive Type</td>\n",
       "    </tr>\n",
       "    <tr>\n",
       "      <th>126</th>\n",
       "      <td>-0.095842</td>\n",
       "      <td>targsubtype1_txt_Subway</td>\n",
       "    </tr>\n",
       "    <tr>\n",
       "      <th>32</th>\n",
       "      <td>-0.084812</td>\n",
       "      <td>targsubtype1_txt_Aircraft (not at an airport)</td>\n",
       "    </tr>\n",
       "    <tr>\n",
       "      <th>8</th>\n",
       "      <td>-0.080592</td>\n",
       "      <td>attacktype1_txt_Unknown</td>\n",
       "    </tr>\n",
       "    <tr>\n",
       "      <th>113</th>\n",
       "      <td>-0.080517</td>\n",
       "      <td>targsubtype1_txt_Public Area (garden, parking ...</td>\n",
       "    </tr>\n",
       "    <tr>\n",
       "      <th>34</th>\n",
       "      <td>-0.079877</td>\n",
       "      <td>targsubtype1_txt_Airport</td>\n",
       "    </tr>\n",
       "    <tr>\n",
       "      <th>45</th>\n",
       "      <td>-0.071139</td>\n",
       "      <td>targsubtype1_txt_Diplomatic Personnel (outside...</td>\n",
       "    </tr>\n",
       "  </tbody>\n",
       "</table>\n",
       "</div>"
      ],
      "text/plain": [
       "         coef                                           variable\n",
       "149 -0.564423                         weaptype1_txt_Radiological\n",
       "28  -0.493795                              targtype1_txt_Unknown\n",
       "141 -0.332358                           weaptype1_txt_Biological\n",
       "164 -0.261598                       weapsubtype1_txt_Letter Bomb\n",
       "144 -0.238493                         weaptype1_txt_Fake Weapons\n",
       "59  -0.209693                     targsubtype1_txt_Head of State\n",
       "100 -0.189761                         targsubtype1_txt_Personnel\n",
       "177 -0.179400                         weapsubtype1_txt_Time Fuse\n",
       "142 -0.159859                             weaptype1_txt_Chemical\n",
       "1   -0.153337                      attacktype1_txt_Assassination\n",
       "148 -0.141015                                weaptype1_txt_Other\n",
       "67  -0.137352           targsubtype1_txt_Internet Infrastructure\n",
       "143 -0.128361            weaptype1_txt_Explosives/Bombs/Dynamite\n",
       "166 -0.108390              weapsubtype1_txt_Other Explosive Type\n",
       "126 -0.095842                            targsubtype1_txt_Subway\n",
       "32  -0.084812      targsubtype1_txt_Aircraft (not at an airport)\n",
       "8   -0.080592                            attacktype1_txt_Unknown\n",
       "113 -0.080517  targsubtype1_txt_Public Area (garden, parking ...\n",
       "34  -0.079877                           targsubtype1_txt_Airport\n",
       "45  -0.071139  targsubtype1_txt_Diplomatic Personnel (outside..."
      ]
     },
     "execution_count": 20,
     "metadata": {},
     "output_type": "execute_result"
    }
   ],
   "source": [
    "coefficients = pd.DataFrame({'variable':X_train.columns, 'coef':predictor.coef_,})\n",
    "# Factors that predict for failure\n",
    "coefficients.sort_values(by='coef').head(20)"
   ]
  },
  {
   "cell_type": "code",
   "execution_count": 21,
   "metadata": {},
   "outputs": [
    {
     "data": {
      "text/html": [
       "<div>\n",
       "<style scoped>\n",
       "    .dataframe tbody tr th:only-of-type {\n",
       "        vertical-align: middle;\n",
       "    }\n",
       "\n",
       "    .dataframe tbody tr th {\n",
       "        vertical-align: top;\n",
       "    }\n",
       "\n",
       "    .dataframe thead th {\n",
       "        text-align: right;\n",
       "    }\n",
       "</style>\n",
       "<table border=\"1\" class=\"dataframe\">\n",
       "  <thead>\n",
       "    <tr style=\"text-align: right;\">\n",
       "      <th></th>\n",
       "      <th>coef</th>\n",
       "      <th>variable</th>\n",
       "    </tr>\n",
       "  </thead>\n",
       "  <tbody>\n",
       "    <tr>\n",
       "      <th>2</th>\n",
       "      <td>0.127350</td>\n",
       "      <td>attacktype1_txt_Bombing/Explosion</td>\n",
       "    </tr>\n",
       "    <tr>\n",
       "      <th>168</th>\n",
       "      <td>0.082603</td>\n",
       "      <td>weapsubtype1_txt_Poisoning</td>\n",
       "    </tr>\n",
       "    <tr>\n",
       "      <th>127</th>\n",
       "      <td>0.075595</td>\n",
       "      <td>targsubtype1_txt_Taxi/Rickshaw</td>\n",
       "    </tr>\n",
       "    <tr>\n",
       "      <th>170</th>\n",
       "      <td>0.075345</td>\n",
       "      <td>weapsubtype1_txt_Projectile (rockets, mortars,...</td>\n",
       "    </tr>\n",
       "    <tr>\n",
       "      <th>38</th>\n",
       "      <td>0.072495</td>\n",
       "      <td>targsubtype1_txt_Bus (excluding tourists)</td>\n",
       "    </tr>\n",
       "    <tr>\n",
       "      <th>147</th>\n",
       "      <td>0.060172</td>\n",
       "      <td>weaptype1_txt_Melee</td>\n",
       "    </tr>\n",
       "    <tr>\n",
       "      <th>64</th>\n",
       "      <td>0.058234</td>\n",
       "      <td>targsubtype1_txt_Intelligence</td>\n",
       "    </tr>\n",
       "    <tr>\n",
       "      <th>5</th>\n",
       "      <td>0.049466</td>\n",
       "      <td>attacktype1_txt_Hostage Taking (Barricade Inci...</td>\n",
       "    </tr>\n",
       "    <tr>\n",
       "      <th>153</th>\n",
       "      <td>0.049003</td>\n",
       "      <td>weapsubtype1_txt_Arson/Fire</td>\n",
       "    </tr>\n",
       "    <tr>\n",
       "      <th>48</th>\n",
       "      <td>0.046772</td>\n",
       "      <td>targsubtype1_txt_Electricity</td>\n",
       "    </tr>\n",
       "    <tr>\n",
       "      <th>145</th>\n",
       "      <td>0.045434</td>\n",
       "      <td>weaptype1_txt_Firearms</td>\n",
       "    </tr>\n",
       "    <tr>\n",
       "      <th>55</th>\n",
       "      <td>0.044147</td>\n",
       "      <td>targsubtype1_txt_Gas</td>\n",
       "    </tr>\n",
       "    <tr>\n",
       "      <th>66</th>\n",
       "      <td>0.041151</td>\n",
       "      <td>targsubtype1_txt_International Organization (p...</td>\n",
       "    </tr>\n",
       "    <tr>\n",
       "      <th>160</th>\n",
       "      <td>0.039323</td>\n",
       "      <td>weapsubtype1_txt_Handgun</td>\n",
       "    </tr>\n",
       "    <tr>\n",
       "      <th>151</th>\n",
       "      <td>0.038896</td>\n",
       "      <td>weaptype1_txt_Unknown</td>\n",
       "    </tr>\n",
       "    <tr>\n",
       "      <th>22</th>\n",
       "      <td>0.034706</td>\n",
       "      <td>targtype1_txt_Private Citizens &amp; Property</td>\n",
       "    </tr>\n",
       "    <tr>\n",
       "      <th>173</th>\n",
       "      <td>0.033737</td>\n",
       "      <td>weapsubtype1_txt_Rope or Other Strangling Device</td>\n",
       "    </tr>\n",
       "    <tr>\n",
       "      <th>87</th>\n",
       "      <td>0.033345</td>\n",
       "      <td>targsubtype1_txt_NATO</td>\n",
       "    </tr>\n",
       "    <tr>\n",
       "      <th>119</th>\n",
       "      <td>0.033143</td>\n",
       "      <td>targsubtype1_txt_Religion Identified</td>\n",
       "    </tr>\n",
       "    <tr>\n",
       "      <th>121</th>\n",
       "      <td>0.032682</td>\n",
       "      <td>targsubtype1_txt_Restaurant/Bar/Caf</td>\n",
       "    </tr>\n",
       "  </tbody>\n",
       "</table>\n",
       "</div>"
      ],
      "text/plain": [
       "         coef                                           variable\n",
       "2    0.127350                  attacktype1_txt_Bombing/Explosion\n",
       "168  0.082603                         weapsubtype1_txt_Poisoning\n",
       "127  0.075595                     targsubtype1_txt_Taxi/Rickshaw\n",
       "170  0.075345  weapsubtype1_txt_Projectile (rockets, mortars,...\n",
       "38   0.072495          targsubtype1_txt_Bus (excluding tourists)\n",
       "147  0.060172                                weaptype1_txt_Melee\n",
       "64   0.058234                      targsubtype1_txt_Intelligence\n",
       "5    0.049466  attacktype1_txt_Hostage Taking (Barricade Inci...\n",
       "153  0.049003                        weapsubtype1_txt_Arson/Fire\n",
       "48   0.046772                       targsubtype1_txt_Electricity\n",
       "145  0.045434                             weaptype1_txt_Firearms\n",
       "55   0.044147                               targsubtype1_txt_Gas\n",
       "66   0.041151  targsubtype1_txt_International Organization (p...\n",
       "160  0.039323                           weapsubtype1_txt_Handgun\n",
       "151  0.038896                              weaptype1_txt_Unknown\n",
       "22   0.034706          targtype1_txt_Private Citizens & Property\n",
       "173  0.033737   weapsubtype1_txt_Rope or Other Strangling Device\n",
       "87   0.033345                              targsubtype1_txt_NATO\n",
       "119  0.033143               targsubtype1_txt_Religion Identified\n",
       "121  0.032682               targsubtype1_txt_Restaurant/Bar/Caf"
      ]
     },
     "execution_count": 21,
     "metadata": {},
     "output_type": "execute_result"
    }
   ],
   "source": [
    "# Factors that predict for success\n",
    "coefficients.sort_values(by='coef', ascending=False).head(20)"
   ]
  }
 ],
 "metadata": {
  "kernelspec": {
   "display_name": "Python [conda root]",
   "language": "python",
   "name": "conda-root-py"
  },
  "language_info": {
   "codemirror_mode": {
    "name": "ipython",
    "version": 3
   },
   "file_extension": ".py",
   "mimetype": "text/x-python",
   "name": "python",
   "nbconvert_exporter": "python",
   "pygments_lexer": "ipython3",
   "version": "3.5.4"
  }
 },
 "nbformat": 4,
 "nbformat_minor": 2
}
