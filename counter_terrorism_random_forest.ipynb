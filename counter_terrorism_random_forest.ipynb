{
 "cells": [
  {
   "cell_type": "markdown",
   "metadata": {},
   "source": [
    "# Random Forest Classifier \n",
    "\n",
    "In this notebook, we will implement a random forest model to classify success/failure of terrorist attacks in our database. Our goal is to find out how accurate this model is compared to LASSO regression and a neural network. \n",
    "\n",
    "## Benefits \n",
    "\n",
    "1. **Interpretability**: Unlike neural networks, whose behavior tends to be opaque, a decision tree is easily interpretable by humans. This is important for counterterrorism applications, since prediction is only an instrumental goal. The ultimate use of our project is to inform decision-makers about *what makes an attack successful.* Therefore, examining what features the decision trees in our model tend to split on is key to dispensing actionable advice to key actors, such as \"weapon type is more important than target type.\"\n",
    "\n",
    "2. **Ensemble modeling**: A random forest takes a weighted vote amongst various individual decision-tree classifiers, creating more robustness and allowing for hyperparamter optimization in the form of number of trees. \n",
    "\n",
    "3. **Binary classification**: Decision trees are well-suited to binary classification problems, which is the kind that we are trying to solve. \n",
    "\n",
    "## Preprocessing\n",
    "\n",
    "First, we'll load the data and separate it into training and test sets."
   ]
  },
  {
   "cell_type": "code",
   "execution_count": 1,
   "metadata": {},
   "outputs": [],
   "source": [
    "import pandas as pd \n",
    "import seaborn as sns\n",
    "import matplotlib.pyplot as plt\n",
    "%matplotlib inline\n",
    "import numpy as np"
   ]
  },
  {
   "cell_type": "code",
   "execution_count": 2,
   "metadata": {},
   "outputs": [
    {
     "name": "stderr",
     "output_type": "stream",
     "text": [
      "/Users/akhiljalan/anaconda/lib/python3.6/site-packages/IPython/core/interactiveshell.py:2862: DtypeWarning: Columns (4,6,8,10,11,12,17,18,24,29,31,33,35,37,38,39,41,43,45,46,47,49,51,53,54,55,57,58,59,60,61,62,63,64,73,76,79,82,84,86,88,90,92,94,96,97,106,108,114,115,121,123,125,126,127,128,129,134) have mixed types. Specify dtype option on import or set low_memory=False.\n",
      "  exec(code_obj, self.user_global_ns, self.user_ns)\n",
      "/Users/akhiljalan/anaconda/lib/python3.6/site-packages/IPython/core/interactiveshell.py:2862: DtypeWarning: Columns (6,61,62,63,79,94,96,114,115) have mixed types. Specify dtype option on import or set low_memory=False.\n",
      "  exec(code_obj, self.user_global_ns, self.user_ns)\n"
     ]
    }
   ],
   "source": [
    "from preprocess_functions import load_data_relevant_cols, get_dummies\n",
    "raw = load_data_relevant_cols()"
   ]
  },
  {
   "cell_type": "code",
   "execution_count": 74,
   "metadata": {},
   "outputs": [],
   "source": [
    "from sklearn.ensemble import RandomForestClassifier\n",
    "from sklearn.model_selection import train_test_split\n",
    "from sklearn.model_selection import GridSearchCV\n",
    "from sklearn.metrics import accuracy_score"
   ]
  },
  {
   "cell_type": "code",
   "execution_count": 4,
   "metadata": {},
   "outputs": [],
   "source": [
    "np.random.seed(159)"
   ]
  },
  {
   "cell_type": "code",
   "execution_count": 6,
   "metadata": {},
   "outputs": [
    {
     "data": {
      "text/plain": [
       "array(['iyear', 'imonth', 'iday', 'country', 'country_txt', 'region',\n",
       "       'region_txt', 'provstate', 'city', 'latitude', 'longitude',\n",
       "       'specificity', 'success', 'attacktype1', 'attacktype1_txt',\n",
       "       'targtype1', 'targtype1_txt', 'targsubtype1', 'targsubtype1_txt',\n",
       "       'natlty1', 'natlty1_txt', 'gname', 'motive', 'weaptype1',\n",
       "       'weaptype1_txt', 'weapsubtype1', 'weapsubtype1_txt', 'nkill',\n",
       "       'nkillus', 'nkillter', 'nwound', 'nwoundus', 'nwoundte', 'property',\n",
       "       'propextent', 'propextent_txt', 'propvalue', 'propcomment',\n",
       "       'ransom', 'ransomamt'], dtype=object)"
      ]
     },
     "execution_count": 6,
     "metadata": {},
     "output_type": "execute_result"
    }
   ],
   "source": [
    "raw.columns.values"
   ]
  },
  {
   "cell_type": "code",
   "execution_count": 44,
   "metadata": {},
   "outputs": [],
   "source": [
    "categorical_features = ['country_txt', 'region_txt', 'attacktype1_txt', 'targtype1_txt', \n",
    "                     'targsubtype1_txt', 'natlty1_txt', 'weaptype1_txt', 'weapsubtype1_txt']\n",
    "numerical_features = ['nkill', 'nkillus', 'nkillter', 'nwound', 'nwoundus', 'nwoundte',\n",
    "                      'iyear', 'success']\n",
    "one_hot_X = get_dummies(raw, categorical_features)\n",
    "numeric_data = raw[numerical_features]\n",
    "all_data = one_hot_X.join(numeric_data).dropna()"
   ]
  },
  {
   "cell_type": "code",
   "execution_count": 45,
   "metadata": {},
   "outputs": [],
   "source": [
    "y_labels = all_data['success']\n",
    "x_data = all_data.drop(columns=['success'])"
   ]
  },
  {
   "cell_type": "code",
   "execution_count": 47,
   "metadata": {},
   "outputs": [],
   "source": [
    "X_train, X_test, y_train, y_test = train_test_split(x_data, y_labels, test_size=0.1, random_state=42)"
   ]
  },
  {
   "cell_type": "markdown",
   "metadata": {},
   "source": [
    "## Grid Search\n",
    "\n",
    "There are several hyperparameters in a random forest model which we can adjust. However, due to computational limitations, we choose to only optimize two: \n",
    "\n",
    "1. **Maximum Depth**: This refers to the maximum allowable depth of each decision tree in the forest. Without a maximum depth, the trees would overfit by splitting until achieving perfect training accuracy. Therefore, it is important to keep maximum depth relatively small to avoid overfitting. \n",
    "\n",
    "2. **Number of estimators**: This refers to the number of decision trees in the forest. Presumably an increase in the number of trees increases robustness of the model. However, there is likely a point of diminishing marginal returns and perhaps even loss of test accuracy. \n",
    "\n",
    "For an impurity metric on splits, we chose the Gini Index. While we could have optimized between this metric and information gain, this would have doubled the runtime of our grid search and would have likely yield no significant improvement. According to [research on the differences of these two methods](https://www.unine.ch/files/live/sites/imi/files/shared/documents/papers/Gini_index_fulltext.pdf), they disagree in only 2 percent of cases. "
   ]
  },
  {
   "cell_type": "code",
   "execution_count": 86,
   "metadata": {},
   "outputs": [],
   "source": [
    "forest_hyperparams = {'max_depth': np.arange(6, 11), \n",
    "                      'n_estimators': np.arange(6, 11)}\n",
    "generic_model = RandomForestClassifier(criterion='gini', max_features=None, random_state=159)   \n",
    "grid_searcher = GridSearchCV(generic_model, forest_hyperparams, return_train_score=False)"
   ]
  },
  {
   "cell_type": "code",
   "execution_count": 87,
   "metadata": {},
   "outputs": [
    {
     "data": {
      "text/plain": [
       "GridSearchCV(cv=None, error_score='raise',\n",
       "       estimator=RandomForestClassifier(bootstrap=True, class_weight=None, criterion='gini',\n",
       "            max_depth=None, max_features=None, max_leaf_nodes=None,\n",
       "            min_impurity_decrease=0.0, min_impurity_split=None,\n",
       "            min_samples_leaf=1, min_samples_split=2,\n",
       "            min_weight_fraction_leaf=0.0, n_estimators=10, n_jobs=1,\n",
       "            oob_score=False, random_state=159, verbose=0, warm_start=False),\n",
       "       fit_params=None, iid=True, n_jobs=1,\n",
       "       param_grid={'max_depth': array([ 6,  7,  8,  9, 10]), 'n_estimators': array([ 6,  7,  8,  9, 10])},\n",
       "       pre_dispatch='2*n_jobs', refit=True, return_train_score=False,\n",
       "       scoring=None, verbose=0)"
      ]
     },
     "execution_count": 87,
     "metadata": {},
     "output_type": "execute_result"
    }
   ],
   "source": [
    "#warning: this cell will take about 10 minutes to run.\n",
    "grid_searcher.fit(X_train, y_train)"
   ]
  },
  {
   "cell_type": "code",
   "execution_count": 93,
   "metadata": {},
   "outputs": [
    {
     "data": {
      "text/plain": [
       "{'max_depth': 10, 'n_estimators': 7}"
      ]
     },
     "execution_count": 93,
     "metadata": {},
     "output_type": "execute_result"
    }
   ],
   "source": [
    "grid_searcher.best_params_"
   ]
  },
  {
   "cell_type": "code",
   "execution_count": 94,
   "metadata": {},
   "outputs": [
    {
     "data": {
      "text/plain": [
       "0.92837436703335074"
      ]
     },
     "execution_count": 94,
     "metadata": {},
     "output_type": "execute_result"
    }
   ],
   "source": [
    "grid_searcher.best_score_"
   ]
  },
  {
   "cell_type": "markdown",
   "metadata": {},
   "source": [
    "### Discussion\n",
    "\n",
    "The results of our grid search have found that the best parameter configuration is a maximum depth of 10, with 7 estimators. This yields a test accuracy of 92.8%. Notably, we expected a larger number of estimators and small depth to have the best performance - but the opposite is true. This shows the importance of empirically optimizing one's hyperparameters whenever possible, as opposed to picking whatever model seems best at the time. \n",
    "\n",
    "### Visualization\n",
    "\n",
    "Next, we'll visualize the test accuracy of our hyperparameter configurations. "
   ]
  },
  {
   "cell_type": "code",
   "execution_count": 147,
   "metadata": {},
   "outputs": [
    {
     "data": {
      "image/png": "[encoded data removed]",
      "text/plain": [
       "<matplotlib.figure.Figure at 0x1a189cd438>"
      ]
     },
     "metadata": {},
     "output_type": "display_data"
    }
   ],
   "source": [
    "mean_test_scores = grid_searcher.cv_results_['mean_test_score'].reshape(5, 5)\n",
    "\n",
    "plt.figure(figsize=(12, 8))\n",
    "sns.heatmap(mean_test_scores, xticklabels=np.arange(6, 11), \n",
    "            yticklabels=np.arange(6, 11), annot=True, cmap='viridis', fmt='.3g')\n",
    "plt.xlabel('Number of Trees in Forest', fontsize=14)\n",
    "plt.ylabel('Maximum Tree Depth', fontsize=14)\n",
    "plt.title('Test Accuracy of Random Forest Classifier', fontsize=18)\n",
    "plt.savefig('random_forest_hyperparams_heatmap.png')\n",
    "plt.show();"
   ]
  },
  {
   "cell_type": "code",
   "execution_count": null,
   "metadata": {},
   "outputs": [],
   "source": []
  }
 ],
 "metadata": {
  "kernelspec": {
   "display_name": "Python 3",
   "language": "python",
   "name": "python3"
  },
  "language_info": {
   "codemirror_mode": {
    "name": "ipython",
    "version": 3
   },
   "file_extension": ".py",
   "mimetype": "text/x-python",
   "name": "python",
   "nbconvert_exporter": "python",
   "pygments_lexer": "ipython3",
   "version": "3.6.3"
  }
 },
 "nbformat": 4,
 "nbformat_minor": 2
}
